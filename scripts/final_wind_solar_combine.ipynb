{
 "cells": [
  {
   "cell_type": "markdown",
   "id": "5d5ea7ed",
   "metadata": {},
   "source": [
    "Final Wind + Solar Combine Code"
   ]
  },
  {
   "cell_type": "code",
   "execution_count": 1,
   "id": "628bcacd",
   "metadata": {},
   "outputs": [],
   "source": [
    "import pandas as pd\n",
    "\n",
    "# === 1️⃣ File paths ===\n",
    "wind_file = '../data/processed/Regional_Wind_Capacity.csv'\n",
    "solar_file = '../data/processed/Regional_Solar_Capacity.csv'\n",
    "output_file = '../data/processed/Regional_Capacity_Table.csv'"
   ]
  },
  {
   "cell_type": "code",
   "execution_count": 3,
   "id": "8b5764f9",
   "metadata": {},
   "outputs": [],
   "source": [
    "# === 2️⃣ Load both regional files ===\n",
    "df_wind = pd.read_csv(wind_file)\n",
    "df_solar = pd.read_csv(solar_file)"
   ]
  },
  {
   "cell_type": "code",
   "execution_count": 4,
   "id": "5c3933c1",
   "metadata": {},
   "outputs": [],
   "source": [
    "# === 3️⃣ Combine ===\n",
    "df_combined = pd.concat([df_wind, df_solar], ignore_index=True)"
   ]
  },
  {
   "cell_type": "code",
   "execution_count": 5,
   "id": "307c1d0c",
   "metadata": {},
   "outputs": [
    {
     "name": "stdout",
     "output_type": "stream",
     "text": [
      "\n",
      "✅ Final Zones:\n",
      "['East' 'North' 'South' 'West']\n"
     ]
    }
   ],
   "source": [
    "# === 4️⃣ Check final zones — should only be East/West/North/South\n",
    "print(\"\\n✅ Final Zones:\")\n",
    "print(df_combined['Zone'].unique())"
   ]
  },
  {
   "cell_type": "code",
   "execution_count": 6,
   "id": "b09a247f",
   "metadata": {},
   "outputs": [
    {
     "name": "stdout",
     "output_type": "stream",
     "text": [
      "\n",
      "✅ Final total Installed MW by Type:\n",
      "Type\n",
      "Solar     746.379\n",
      "Wind     4792.706\n",
      "Wind      145.800\n",
      "Name: Installed_MW, dtype: float64\n"
     ]
    }
   ],
   "source": [
    "# === 5️⃣ Check sum by Type for sanity\n",
    "print(\"\\n✅ Final total Installed MW by Type:\")\n",
    "print(df_combined.groupby('Type')['Installed_MW'].sum())"
   ]
  },
  {
   "cell_type": "code",
   "execution_count": 8,
   "id": "779d01db",
   "metadata": {},
   "outputs": [
    {
     "name": "stdout",
     "output_type": "stream",
     "text": [
      "\n",
      "✅ Final Regional Capacity Table saved to: ../data/processed/Regional_Capacity_Table.csv\n"
     ]
    }
   ],
   "source": [
    "# === 6️⃣ Save final Regional Capacity Table\n",
    "df_combined.to_csv(output_file, index=False)\n",
    "print(f\"\\n✅ Final Regional Capacity Table saved to: {output_file}\")"
   ]
  }
 ],
 "metadata": {
  "kernelspec": {
   "display_name": "base",
   "language": "python",
   "name": "python3"
  },
  "language_info": {
   "codemirror_mode": {
    "name": "ipython",
    "version": 3
   },
   "file_extension": ".py",
   "mimetype": "text/x-python",
   "name": "python",
   "nbconvert_exporter": "python",
   "pygments_lexer": "ipython3",
   "version": "3.12.3"
  }
 },
 "nbformat": 4,
 "nbformat_minor": 5
}
