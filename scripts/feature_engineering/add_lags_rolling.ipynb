{
 "cells": [
  {
   "cell_type": "code",
   "execution_count": 1,
   "id": "edca9547",
   "metadata": {},
   "outputs": [
    {
     "name": "stdout",
     "output_type": "stream",
     "text": [
      "✅ Current working directory: c:\\Projects\\GitHub\\Ireland-energy-forecast\\scripts\\feature_engineering\n"
     ]
    }
   ],
   "source": [
    "import pandas as pd\n",
    "import os\n",
    "print(\"✅ Current working directory:\", os.getcwd())"
   ]
  },
  {
   "cell_type": "code",
   "execution_count": 3,
   "id": "4b543572",
   "metadata": {},
   "outputs": [],
   "source": [
    "# ✅ Load your clean reshaped version — fix path\n",
    "df = pd.read_csv('../../data/processed/Final_Model_Ready_Clean_Reshaped.csv')\n"
   ]
  },
  {
   "cell_type": "code",
   "execution_count": 4,
   "id": "0409fc95",
   "metadata": {},
   "outputs": [
    {
     "data": {
      "text/html": [
       "<div>\n",
       "<style scoped>\n",
       "    .dataframe tbody tr th:only-of-type {\n",
       "        vertical-align: middle;\n",
       "    }\n",
       "\n",
       "    .dataframe tbody tr th {\n",
       "        vertical-align: top;\n",
       "    }\n",
       "\n",
       "    .dataframe thead th {\n",
       "        text-align: right;\n",
       "    }\n",
       "</style>\n",
       "<table border=\"1\" class=\"dataframe\">\n",
       "  <thead>\n",
       "    <tr style=\"text-align: right;\">\n",
       "      <th></th>\n",
       "      <th>Date</th>\n",
       "      <th>Wind_GWh</th>\n",
       "      <th>Solar_GWh</th>\n",
       "      <th>Wind_Speed_10m</th>\n",
       "      <th>Temperature_Celsius</th>\n",
       "      <th>Cloud_Cover</th>\n",
       "      <th>Solar_Radiation_MJ_per_m2</th>\n",
       "      <th>Wind_Capacity_MW</th>\n",
       "      <th>Solar_Capacity_MW</th>\n",
       "      <th>East_Solar_DSO_MW</th>\n",
       "      <th>...</th>\n",
       "      <th>East_Wind_TSO_MW</th>\n",
       "      <th>North_Wind_DSO_MW</th>\n",
       "      <th>North_Wind_TSO_MW</th>\n",
       "      <th>South_Solar_DSO_MW</th>\n",
       "      <th>South_Solar_TSO_MW</th>\n",
       "      <th>South_Wind_DSO_MW</th>\n",
       "      <th>South_Wind_TSO_MW</th>\n",
       "      <th>West_Solar_DSO_MW</th>\n",
       "      <th>West_Wind_DSO_MW</th>\n",
       "      <th>West_Wind_TSO_MW</th>\n",
       "    </tr>\n",
       "  </thead>\n",
       "  <tbody>\n",
       "    <tr>\n",
       "      <th>0</th>\n",
       "      <td>01-01-2010</td>\n",
       "      <td>248.002</td>\n",
       "      <td>0.0</td>\n",
       "      <td>0.786551</td>\n",
       "      <td>4.149077</td>\n",
       "      <td>0.668563</td>\n",
       "      <td>2971663.8</td>\n",
       "      <td>1270.807</td>\n",
       "      <td>0.6</td>\n",
       "      <td>106.609</td>\n",
       "      <td>...</td>\n",
       "      <td>525.4</td>\n",
       "      <td>340.498</td>\n",
       "      <td>356.9</td>\n",
       "      <td>22.97</td>\n",
       "      <td>87</td>\n",
       "      <td>1093.551</td>\n",
       "      <td>1028.65</td>\n",
       "      <td>9.2</td>\n",
       "      <td>441.118</td>\n",
       "      <td>803</td>\n",
       "    </tr>\n",
       "    <tr>\n",
       "      <th>1</th>\n",
       "      <td>01-02-2010</td>\n",
       "      <td>150.952</td>\n",
       "      <td>0.0</td>\n",
       "      <td>1.154458</td>\n",
       "      <td>4.126316</td>\n",
       "      <td>0.694220</td>\n",
       "      <td>5765193.0</td>\n",
       "      <td>1286.107</td>\n",
       "      <td>0.6</td>\n",
       "      <td>106.609</td>\n",
       "      <td>...</td>\n",
       "      <td>525.4</td>\n",
       "      <td>340.498</td>\n",
       "      <td>356.9</td>\n",
       "      <td>22.97</td>\n",
       "      <td>87</td>\n",
       "      <td>1093.551</td>\n",
       "      <td>1028.65</td>\n",
       "      <td>9.2</td>\n",
       "      <td>441.118</td>\n",
       "      <td>803</td>\n",
       "    </tr>\n",
       "    <tr>\n",
       "      <th>2</th>\n",
       "      <td>01-03-2010</td>\n",
       "      <td>251.394</td>\n",
       "      <td>0.0</td>\n",
       "      <td>0.872089</td>\n",
       "      <td>6.327460</td>\n",
       "      <td>0.653995</td>\n",
       "      <td>10048856.0</td>\n",
       "      <td>1303.657</td>\n",
       "      <td>0.6</td>\n",
       "      <td>106.609</td>\n",
       "      <td>...</td>\n",
       "      <td>525.4</td>\n",
       "      <td>340.498</td>\n",
       "      <td>356.9</td>\n",
       "      <td>22.97</td>\n",
       "      <td>87</td>\n",
       "      <td>1093.551</td>\n",
       "      <td>1028.65</td>\n",
       "      <td>9.2</td>\n",
       "      <td>441.118</td>\n",
       "      <td>803</td>\n",
       "    </tr>\n",
       "    <tr>\n",
       "      <th>3</th>\n",
       "      <td>01-04-2010</td>\n",
       "      <td>186.269</td>\n",
       "      <td>0.0</td>\n",
       "      <td>1.295724</td>\n",
       "      <td>8.733235</td>\n",
       "      <td>0.674453</td>\n",
       "      <td>16062960.0</td>\n",
       "      <td>1313.647</td>\n",
       "      <td>0.6</td>\n",
       "      <td>106.609</td>\n",
       "      <td>...</td>\n",
       "      <td>525.4</td>\n",
       "      <td>340.498</td>\n",
       "      <td>356.9</td>\n",
       "      <td>22.97</td>\n",
       "      <td>87</td>\n",
       "      <td>1093.551</td>\n",
       "      <td>1028.65</td>\n",
       "      <td>9.2</td>\n",
       "      <td>441.118</td>\n",
       "      <td>803</td>\n",
       "    </tr>\n",
       "    <tr>\n",
       "      <th>4</th>\n",
       "      <td>01-05-2010</td>\n",
       "      <td>168.528</td>\n",
       "      <td>0.0</td>\n",
       "      <td>1.649233</td>\n",
       "      <td>10.533146</td>\n",
       "      <td>0.653326</td>\n",
       "      <td>18700240.0</td>\n",
       "      <td>1313.647</td>\n",
       "      <td>0.6</td>\n",
       "      <td>106.609</td>\n",
       "      <td>...</td>\n",
       "      <td>525.4</td>\n",
       "      <td>340.498</td>\n",
       "      <td>356.9</td>\n",
       "      <td>22.97</td>\n",
       "      <td>87</td>\n",
       "      <td>1093.551</td>\n",
       "      <td>1028.65</td>\n",
       "      <td>9.2</td>\n",
       "      <td>441.118</td>\n",
       "      <td>803</td>\n",
       "    </tr>\n",
       "  </tbody>\n",
       "</table>\n",
       "<p>5 rows × 22 columns</p>\n",
       "</div>"
      ],
      "text/plain": [
       "         Date  Wind_GWh  Solar_GWh  Wind_Speed_10m  Temperature_Celsius  \\\n",
       "0  01-01-2010   248.002        0.0        0.786551             4.149077   \n",
       "1  01-02-2010   150.952        0.0        1.154458             4.126316   \n",
       "2  01-03-2010   251.394        0.0        0.872089             6.327460   \n",
       "3  01-04-2010   186.269        0.0        1.295724             8.733235   \n",
       "4  01-05-2010   168.528        0.0        1.649233            10.533146   \n",
       "\n",
       "   Cloud_Cover  Solar_Radiation_MJ_per_m2  Wind_Capacity_MW  \\\n",
       "0     0.668563                  2971663.8          1270.807   \n",
       "1     0.694220                  5765193.0          1286.107   \n",
       "2     0.653995                 10048856.0          1303.657   \n",
       "3     0.674453                 16062960.0          1313.647   \n",
       "4     0.653326                 18700240.0          1313.647   \n",
       "\n",
       "   Solar_Capacity_MW  East_Solar_DSO_MW  ...  East_Wind_TSO_MW  \\\n",
       "0                0.6            106.609  ...             525.4   \n",
       "1                0.6            106.609  ...             525.4   \n",
       "2                0.6            106.609  ...             525.4   \n",
       "3                0.6            106.609  ...             525.4   \n",
       "4                0.6            106.609  ...             525.4   \n",
       "\n",
       "   North_Wind_DSO_MW  North_Wind_TSO_MW  South_Solar_DSO_MW  \\\n",
       "0            340.498              356.9               22.97   \n",
       "1            340.498              356.9               22.97   \n",
       "2            340.498              356.9               22.97   \n",
       "3            340.498              356.9               22.97   \n",
       "4            340.498              356.9               22.97   \n",
       "\n",
       "   South_Solar_TSO_MW  South_Wind_DSO_MW  South_Wind_TSO_MW  \\\n",
       "0                  87           1093.551            1028.65   \n",
       "1                  87           1093.551            1028.65   \n",
       "2                  87           1093.551            1028.65   \n",
       "3                  87           1093.551            1028.65   \n",
       "4                  87           1093.551            1028.65   \n",
       "\n",
       "   West_Solar_DSO_MW  West_Wind_DSO_MW  West_Wind_TSO_MW  \n",
       "0                9.2           441.118               803  \n",
       "1                9.2           441.118               803  \n",
       "2                9.2           441.118               803  \n",
       "3                9.2           441.118               803  \n",
       "4                9.2           441.118               803  \n",
       "\n",
       "[5 rows x 22 columns]"
      ]
     },
     "execution_count": 4,
     "metadata": {},
     "output_type": "execute_result"
    }
   ],
   "source": [
    "df.head()"
   ]
  },
  {
   "cell_type": "code",
   "execution_count": 5,
   "id": "6d4cdbee",
   "metadata": {},
   "outputs": [
    {
     "name": "stdout",
     "output_type": "stream",
     "text": [
      "Date                          object\n",
      "Wind_GWh                     float64\n",
      "Solar_GWh                    float64\n",
      "Wind_Speed_10m               float64\n",
      "Temperature_Celsius          float64\n",
      "Cloud_Cover                  float64\n",
      "Solar_Radiation_MJ_per_m2    float64\n",
      "Wind_Capacity_MW             float64\n",
      "Solar_Capacity_MW            float64\n",
      "East_Solar_DSO_MW            float64\n",
      "East_Solar_TSO_MW            float64\n",
      "East_Wind_DSO_MW             float64\n",
      "East_Wind_TSO_MW             float64\n",
      "North_Wind_DSO_MW            float64\n",
      "North_Wind_TSO_MW            float64\n",
      "South_Solar_DSO_MW           float64\n",
      "South_Solar_TSO_MW             int64\n",
      "South_Wind_DSO_MW            float64\n",
      "South_Wind_TSO_MW            float64\n",
      "West_Solar_DSO_MW            float64\n",
      "West_Wind_DSO_MW             float64\n",
      "West_Wind_TSO_MW               int64\n",
      "dtype: object\n"
     ]
    }
   ],
   "source": [
    "print(df.dtypes)"
   ]
  },
  {
   "cell_type": "code",
   "execution_count": 13,
   "id": "64964784",
   "metadata": {},
   "outputs": [],
   "source": [
    "# ✅ Sort by Date to ensure correct order\n",
    "df = df.sort_values('Date').reset_index(drop=True)"
   ]
  },
  {
   "cell_type": "code",
   "execution_count": 14,
   "id": "ca7bfc94",
   "metadata": {},
   "outputs": [],
   "source": [
    "# ✅ Create lags for Wind_GWh\n",
    "df['Wind_GWh_Lag1'] = df['Wind_GWh'].shift(1)\n",
    "df['Wind_GWh_Lag2'] = df['Wind_GWh'].shift(2)\n",
    "df['Wind_GWh_Lag12'] = df['Wind_GWh'].shift(12)"
   ]
  },
  {
   "cell_type": "code",
   "execution_count": 15,
   "id": "84ec885a",
   "metadata": {},
   "outputs": [],
   "source": [
    "# ✅ Create lags for Solar_GWh\n",
    "df['Solar_GWh_Lag1'] = df['Solar_GWh'].shift(1)\n",
    "df['Solar_GWh_Lag2'] = df['Solar_GWh'].shift(2)\n",
    "df['Solar_GWh_Lag12'] = df['Solar_GWh'].shift(12)"
   ]
  },
  {
   "cell_type": "code",
   "execution_count": 16,
   "id": "53dbfa35",
   "metadata": {},
   "outputs": [],
   "source": [
    "# ✅ Create rolling mean for Wind_GWh (3-month)\n",
    "df['Wind_GWh_RollingMean3'] = df['Wind_GWh'].rolling(window=3).mean().shift(1)"
   ]
  },
  {
   "cell_type": "code",
   "execution_count": 17,
   "id": "1dfe3add",
   "metadata": {},
   "outputs": [],
   "source": [
    "# ✅ Create rolling mean for Solar_GWh (3-month)\n",
    "df['Solar_GWh_RollingMean3'] = df['Solar_GWh'].rolling(window=3).mean().shift(1)"
   ]
  },
  {
   "cell_type": "code",
   "execution_count": 18,
   "id": "775dd6f8",
   "metadata": {},
   "outputs": [],
   "source": [
    "# ✅ Drop rows with NaN caused by shifts & rolling mean\n",
    "df_final_lagged = df.dropna().copy()"
   ]
  },
  {
   "cell_type": "code",
   "execution_count": 19,
   "id": "11f68d84",
   "metadata": {},
   "outputs": [
    {
     "name": "stdout",
     "output_type": "stream",
     "text": [
      "✅ Final shape after lags & rolling mean: (168, 30)\n"
     ]
    }
   ],
   "source": [
    "print(\"✅ Final shape after lags & rolling mean:\", df_final_lagged.shape)"
   ]
  },
  {
   "cell_type": "code",
   "execution_count": 20,
   "id": "05d6280b",
   "metadata": {},
   "outputs": [
    {
     "name": "stdout",
     "output_type": "stream",
     "text": [
      "✅ Final feature engineered dataset saved: Final_Model_Ready_With_Lags_Rolling.csv\n"
     ]
    }
   ],
   "source": [
    "# ✅ Save the final version\n",
    "df_final_lagged.to_csv('../../data/processed/Final_Model_Ready_With_Lags_Rolling.csv', index=False)\n",
    "print(\"✅ Final feature engineered dataset saved: Final_Model_Ready_With_Lags_Rolling.csv\")"
   ]
  }
 ],
 "metadata": {
  "kernelspec": {
   "display_name": "base",
   "language": "python",
   "name": "python3"
  },
  "language_info": {
   "codemirror_mode": {
    "name": "ipython",
    "version": 3
   },
   "file_extension": ".py",
   "mimetype": "text/x-python",
   "name": "python",
   "nbconvert_exporter": "python",
   "pygments_lexer": "ipython3",
   "version": "3.12.3"
  }
 },
 "nbformat": 4,
 "nbformat_minor": 5
}
