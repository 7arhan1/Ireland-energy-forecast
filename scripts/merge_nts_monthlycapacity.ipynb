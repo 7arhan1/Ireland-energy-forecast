{
 "cells": [
  {
   "cell_type": "markdown",
   "id": "f717bf0e",
   "metadata": {},
   "source": [
    "STEP 1 — Merge National Time-Series + Monthly Capacity"
   ]
  },
  {
   "cell_type": "code",
   "execution_count": 1,
   "id": "e857fbd5",
   "metadata": {},
   "outputs": [],
   "source": [
    "import pandas as pd\n",
    "\n",
    "# === 1️⃣ File paths ===\n",
    "energy_file = '../data/processed/Cleaned_Energy_Data.csv'\n",
    "wind_weather_file = '../data/processed/Cleaned_Weather_Data_ERA5.csv'\n",
    "solar_weather_file = '../data/processed/Solar_Radiation_Monthly_Ireland.csv'\n",
    "wind_capacity_file = '../data/processed/Cleaned_Wind_Capacity.csv'\n",
    "solar_capacity_file = '../data/processed/Cleaned_Solar_Capacity.csv'\n",
    "\n",
    "output_file = '../data/processed/National_TimeSeries_With_Capacity.csv'"
   ]
  },
  {
   "cell_type": "code",
   "execution_count": 2,
   "id": "95811e0e",
   "metadata": {},
   "outputs": [],
   "source": [
    "# === 2️⃣ Load files ===\n",
    "df_energy = pd.read_csv(energy_file)\n",
    "df_wind_weather = pd.read_csv(wind_weather_file)\n",
    "df_solar_weather = pd.read_csv(solar_weather_file)\n",
    "df_wind_cap = pd.read_csv(wind_capacity_file)\n",
    "df_solar_cap = pd.read_csv(solar_capacity_file)"
   ]
  },
  {
   "cell_type": "code",
   "execution_count": 3,
   "id": "47e4bd39",
   "metadata": {},
   "outputs": [],
   "source": [
    "# === 3️⃣ Standardize Dates ===\n",
    "# Energy: assume already YYYY-MM-DD\n",
    "df_energy['Date'] = pd.to_datetime(df_energy['Date']).dt.strftime('%Y-%m-%d')"
   ]
  },
  {
   "cell_type": "code",
   "execution_count": 4,
   "id": "febb867f",
   "metadata": {},
   "outputs": [],
   "source": [
    "# Wind Weather: drop ERA5 meta\n",
    "df_wind_weather['Date'] = pd.to_datetime(df_wind_weather['Date']).dt.strftime('%Y-%m-%d')\n",
    "df_wind_weather = df_wind_weather.drop(columns=['number', 'expver'], errors='ignore')"
   ]
  },
  {
   "cell_type": "code",
   "execution_count": 5,
   "id": "7fed1fd3",
   "metadata": {},
   "outputs": [],
   "source": [
    "# Solar Radiation: fix timestamp, keep YYYY-MM-DD only\n",
    "df_solar_weather['Date'] = pd.to_datetime(df_solar_weather['Date']).dt.strftime('%Y-%m-%d')"
   ]
  },
  {
   "cell_type": "code",
   "execution_count": 6,
   "id": "7beb235c",
   "metadata": {},
   "outputs": [],
   "source": [
    "# Wind Capacity: already good\n",
    "df_wind_cap['Date'] = pd.to_datetime(df_wind_cap['Date']).dt.strftime('%Y-%m-%d')"
   ]
  },
  {
   "cell_type": "code",
   "execution_count": 7,
   "id": "ba04f879",
   "metadata": {},
   "outputs": [],
   "source": [
    "# Solar Capacity: fix DD-MM-YYYY → YYYY-MM-DD\n",
    "df_solar_cap['Date'] = pd.to_datetime(df_solar_cap['Date'], format='%d-%m-%Y').dt.strftime('%Y-%m-%d')"
   ]
  },
  {
   "cell_type": "code",
   "execution_count": 8,
   "id": "45ca8f93",
   "metadata": {},
   "outputs": [],
   "source": [
    "# === 4️⃣ Merge step-by-step ===\n",
    "df_merged = df_energy.merge(df_wind_weather, on='Date', how='left')\n",
    "df_merged = df_merged.merge(df_solar_weather, on='Date', how='left')\n",
    "df_merged = df_merged.merge(df_wind_cap, on='Date', how='left')\n",
    "df_merged = df_merged.merge(df_solar_cap, on='Date', how='left')"
   ]
  },
  {
   "cell_type": "code",
   "execution_count": 9,
   "id": "8f19fa97",
   "metadata": {},
   "outputs": [
    {
     "name": "stdout",
     "output_type": "stream",
     "text": [
      "\n",
      "✅ Final National Time-Series Shape: (180, 9)\n",
      "         Date  Wind_GWh  Solar_GWh  Wind_Speed_10m  Temperature_Celsius  \\\n",
      "0  2010-01-01   248.002        0.0        0.786551             4.149077   \n",
      "1  2010-02-01   150.952        0.0        1.154458             4.126316   \n",
      "2  2010-03-01   251.394        0.0        0.872089             6.327460   \n",
      "\n",
      "   Cloud_Cover  Solar_Radiation_MJ_per_m2  Wind_Capacity_MW  Solar_Capacity_MW  \n",
      "0     0.668563                  2971663.8          1270.807                0.6  \n",
      "1     0.694220                  5765193.0          1286.107                0.6  \n",
      "2     0.653995                 10048856.0          1303.657                0.6  \n"
     ]
    }
   ],
   "source": [
    "# === 5️⃣ Final checks ===\n",
    "print(\"\\n✅ Final National Time-Series Shape:\", df_merged.shape)\n",
    "print(df_merged.head(3))"
   ]
  },
  {
   "cell_type": "code",
   "execution_count": 10,
   "id": "90116ee5",
   "metadata": {},
   "outputs": [
    {
     "name": "stdout",
     "output_type": "stream",
     "text": [
      "\n",
      "✅ STEP 1 saved: ../data/processed/National_TimeSeries_With_Capacity.csv\n"
     ]
    }
   ],
   "source": [
    "# === 6️⃣ Save output ===\n",
    "df_merged.to_csv(output_file, index=False)\n",
    "print(f\"\\n✅ STEP 1 saved: {output_file}\")"
   ]
  },
  {
   "cell_type": "markdown",
   "id": "786f89c2",
   "metadata": {},
   "source": [
    "STEP 2 — Expand Regional Capacity Table"
   ]
  },
  {
   "cell_type": "code",
   "execution_count": 18,
   "id": "d3aabe4d",
   "metadata": {},
   "outputs": [],
   "source": [
    "import pandas as pd\n",
    "\n",
    "# === 1️⃣ File paths ===\n",
    "regional_file = '../data/processed/Regional_Capacity_Table.csv'\n",
    "national_ts_file = '../data/processed/National_TimeSeries_With_Capacity.csv'\n",
    "output_file = '../data/processed/Regional_Capacity_Expanded.csv'"
   ]
  },
  {
   "cell_type": "code",
   "execution_count": 19,
   "id": "1ec2f0ae",
   "metadata": {},
   "outputs": [],
   "source": [
    "# === 2️⃣ Load both ===\n",
    "df_regional = pd.read_csv(regional_file)\n",
    "df_national_ts = pd.read_csv(national_ts_file)"
   ]
  },
  {
   "cell_type": "code",
   "execution_count": 20,
   "id": "b0cef427",
   "metadata": {},
   "outputs": [
    {
     "name": "stdout",
     "output_type": "stream",
     "text": [
      "✅ Number of unique months: 180\n"
     ]
    }
   ],
   "source": [
    "# === 3️⃣ Get unique Dates from national time-series ===\n",
    "unique_dates = df_national_ts['Date'].unique()\n",
    "print(f\"✅ Number of unique months: {len(unique_dates)}\")"
   ]
  },
  {
   "cell_type": "code",
   "execution_count": 21,
   "id": "7dd4838e",
   "metadata": {},
   "outputs": [],
   "source": [
    "# === 4️⃣ Create expanded Regional table ===\n",
    "# Add a dummy key to cross join\n",
    "df_regional['key'] = 1\n",
    "df_dates = pd.DataFrame({'Date': unique_dates})\n",
    "df_dates['key'] = 1"
   ]
  },
  {
   "cell_type": "code",
   "execution_count": 22,
   "id": "7a4aa02e",
   "metadata": {},
   "outputs": [],
   "source": [
    "# Cross join: each Regional row repeats for every Date\n",
    "df_expanded = pd.merge(df_dates, df_regional, on='key').drop(columns=['key'])"
   ]
  },
  {
   "cell_type": "code",
   "execution_count": 23,
   "id": "79d0d677",
   "metadata": {},
   "outputs": [
    {
     "name": "stdout",
     "output_type": "stream",
     "text": [
      "\n",
      "✅ Sample of expanded Regional Capacity:\n",
      "         Date   Zone   Type Connection_Type  Installed_MW\n",
      "0  2010-01-01   East   Wind             DSO       349.389\n",
      "1  2010-01-01   East   Wind             TSO       491.400\n",
      "2  2010-01-01   East  Wind              TSO        34.000\n",
      "3  2010-01-01  North   Wind             DSO       340.498\n",
      "4  2010-01-01  North   Wind             TSO       356.900\n",
      "\n",
      "✅ Final expanded shape: (2880, 5)\n"
     ]
    }
   ],
   "source": [
    "# === 5️⃣ Sanity check ===\n",
    "print(\"\\n✅ Sample of expanded Regional Capacity:\")\n",
    "print(df_expanded.head(5))\n",
    "print(\"\\n✅ Final expanded shape:\", df_expanded.shape)"
   ]
  },
  {
   "cell_type": "code",
   "execution_count": 24,
   "id": "7bcb5b09",
   "metadata": {},
   "outputs": [],
   "source": [
    "df_expanded['Type'] = df_expanded['Type'].str.strip()"
   ]
  },
  {
   "cell_type": "code",
   "execution_count": 25,
   "id": "32656cd1",
   "metadata": {},
   "outputs": [
    {
     "name": "stdout",
     "output_type": "stream",
     "text": [
      "\n",
      "✅ STEP 2 saved: ../data/processed/Regional_Capacity_Expanded.csv\n"
     ]
    }
   ],
   "source": [
    "# === 6️⃣ Save output ===\n",
    "df_expanded.to_csv(output_file, index=False)\n",
    "print(f\"\\n✅ STEP 2 saved: {output_file}\")"
   ]
  },
  {
   "cell_type": "markdown",
   "id": "739de071",
   "metadata": {},
   "source": [
    "STEP 3 — Final Merge: National + Regional"
   ]
  },
  {
   "cell_type": "code",
   "execution_count": 26,
   "id": "99375ba6",
   "metadata": {},
   "outputs": [],
   "source": [
    "import pandas as pd"
   ]
  },
  {
   "cell_type": "code",
   "execution_count": 27,
   "id": "d29ff94f",
   "metadata": {},
   "outputs": [],
   "source": [
    "# === 1️⃣ File paths ===\n",
    "national_ts_file = '../data/processed/National_TimeSeries_With_Capacity.csv'\n",
    "regional_expanded_file = '../data/processed/Regional_Capacity_Expanded.csv'\n",
    "output_file = '../data/processed/Final_Model_Ready.csv'"
   ]
  },
  {
   "cell_type": "code",
   "execution_count": 28,
   "id": "3c90517f",
   "metadata": {},
   "outputs": [],
   "source": [
    "# === 2️⃣ Load both ===\n",
    "df_national = pd.read_csv(national_ts_file)\n",
    "df_regional = pd.read_csv(regional_expanded_file)"
   ]
  },
  {
   "cell_type": "code",
   "execution_count": 29,
   "id": "0f5138c1",
   "metadata": {},
   "outputs": [],
   "source": [
    "# === 3️⃣ Merge: cross join on Date\n",
    "df_final = pd.merge(\n",
    "    df_regional,\n",
    "    df_national,\n",
    "    on='Date',\n",
    "    how='left'\n",
    ")"
   ]
  },
  {
   "cell_type": "code",
   "execution_count": 30,
   "id": "45e7b720",
   "metadata": {},
   "outputs": [
    {
     "name": "stdout",
     "output_type": "stream",
     "text": [
      "\n",
      "✅ Final merged shape: (2880, 13)\n",
      "\n",
      "✅ Sample rows:\n",
      "         Date   Zone  Type Connection_Type  Installed_MW  Wind_GWh  Solar_GWh  \\\n",
      "0  2010-01-01   East  Wind             DSO       349.389   248.002        0.0   \n",
      "1  2010-01-01   East  Wind             TSO       491.400   248.002        0.0   \n",
      "2  2010-01-01   East  Wind             TSO        34.000   248.002        0.0   \n",
      "3  2010-01-01  North  Wind             DSO       340.498   248.002        0.0   \n",
      "4  2010-01-01  North  Wind             TSO       356.900   248.002        0.0   \n",
      "\n",
      "   Wind_Speed_10m  Temperature_Celsius  Cloud_Cover  \\\n",
      "0        0.786551             4.149077     0.668563   \n",
      "1        0.786551             4.149077     0.668563   \n",
      "2        0.786551             4.149077     0.668563   \n",
      "3        0.786551             4.149077     0.668563   \n",
      "4        0.786551             4.149077     0.668563   \n",
      "\n",
      "   Solar_Radiation_MJ_per_m2  Wind_Capacity_MW  Solar_Capacity_MW  \n",
      "0                  2971663.8          1270.807                0.6  \n",
      "1                  2971663.8          1270.807                0.6  \n",
      "2                  2971663.8          1270.807                0.6  \n",
      "3                  2971663.8          1270.807                0.6  \n",
      "4                  2971663.8          1270.807                0.6  \n"
     ]
    }
   ],
   "source": [
    "# === 4️⃣ Sanity checks ===\n",
    "print(\"\\n✅ Final merged shape:\", df_final.shape)\n",
    "print(\"\\n✅ Sample rows:\")\n",
    "print(df_final.head(5))"
   ]
  },
  {
   "cell_type": "code",
   "execution_count": 31,
   "id": "2c86c6cf",
   "metadata": {},
   "outputs": [
    {
     "name": "stdout",
     "output_type": "stream",
     "text": [
      "\n",
      "✅ Zones in final: ['East' 'North' 'South' 'West']\n",
      "✅ Types in final: ['Wind' 'Solar']\n"
     ]
    }
   ],
   "source": [
    "# Check unique zones and types\n",
    "print(\"\\n✅ Zones in final:\", df_final['Zone'].unique())\n",
    "print(\"✅ Types in final:\", df_final['Type'].unique())"
   ]
  },
  {
   "cell_type": "code",
   "execution_count": 32,
   "id": "b3339707",
   "metadata": {},
   "outputs": [
    {
     "name": "stdout",
     "output_type": "stream",
     "text": [
      "\n",
      "✅ STEP 3 saved: ../data/processed/Final_Model_Ready.csv\n"
     ]
    }
   ],
   "source": [
    "# === 5️⃣ Save final model-ready dataset ===\n",
    "df_final.to_csv(output_file, index=False)\n",
    "print(f\"\\n✅ STEP 3 saved: {output_file}\")"
   ]
  },
  {
   "cell_type": "markdown",
   "id": "5b0e6e08",
   "metadata": {},
   "source": [
    "Clean & Reshape Final Model-Ready Dataset\n",
    "\n",
    "1️⃣ Fill Solar_Capacity_MW safely (mean or 0 for rows where it’s truly zero).\n",
    "2️⃣ Pivot:\n",
    "\n",
    "Zone + Type + Connection_Type + Installed_MW → wide columns.\n",
    "3️⃣ Merge that back with unique national data → 1 row per month."
   ]
  },
  {
   "cell_type": "markdown",
   "id": "49e1f7b8",
   "metadata": {},
   "source": [
    "🔹 STEP 2.1 — Fill Solar_Capacity_MW safely\n",
    "Why:\n",
    "\n",
    "192 missing values mean some months have no solar installed.\n",
    "\n",
    "For Ireland, early years really did have zero → so it’s correct to fill with 0, not mean."
   ]
  },
  {
   "cell_type": "code",
   "execution_count": 60,
   "id": "faa57ef6",
   "metadata": {},
   "outputs": [
    {
     "data": {
      "text/html": [
       "<div>\n",
       "<style scoped>\n",
       "    .dataframe tbody tr th:only-of-type {\n",
       "        vertical-align: middle;\n",
       "    }\n",
       "\n",
       "    .dataframe tbody tr th {\n",
       "        vertical-align: top;\n",
       "    }\n",
       "\n",
       "    .dataframe thead th {\n",
       "        text-align: right;\n",
       "    }\n",
       "</style>\n",
       "<table border=\"1\" class=\"dataframe\">\n",
       "  <thead>\n",
       "    <tr style=\"text-align: right;\">\n",
       "      <th></th>\n",
       "      <th>Date</th>\n",
       "      <th>Zone</th>\n",
       "      <th>Type</th>\n",
       "      <th>Connection_Type</th>\n",
       "      <th>Installed_MW</th>\n",
       "      <th>Wind_GWh</th>\n",
       "      <th>Solar_GWh</th>\n",
       "      <th>Wind_Speed_10m</th>\n",
       "      <th>Temperature_Celsius</th>\n",
       "      <th>Cloud_Cover</th>\n",
       "      <th>Solar_Radiation_MJ_per_m2</th>\n",
       "      <th>Wind_Capacity_MW</th>\n",
       "      <th>Solar_Capacity_MW</th>\n",
       "    </tr>\n",
       "  </thead>\n",
       "  <tbody>\n",
       "    <tr>\n",
       "      <th>0</th>\n",
       "      <td>2010-01-01</td>\n",
       "      <td>East</td>\n",
       "      <td>Wind</td>\n",
       "      <td>DSO</td>\n",
       "      <td>349.389</td>\n",
       "      <td>248.002</td>\n",
       "      <td>0.0</td>\n",
       "      <td>0.786551</td>\n",
       "      <td>4.149077</td>\n",
       "      <td>0.668563</td>\n",
       "      <td>2971663.8</td>\n",
       "      <td>1270.807</td>\n",
       "      <td>0.6</td>\n",
       "    </tr>\n",
       "    <tr>\n",
       "      <th>1</th>\n",
       "      <td>2010-01-01</td>\n",
       "      <td>East</td>\n",
       "      <td>Wind</td>\n",
       "      <td>TSO</td>\n",
       "      <td>491.400</td>\n",
       "      <td>248.002</td>\n",
       "      <td>0.0</td>\n",
       "      <td>0.786551</td>\n",
       "      <td>4.149077</td>\n",
       "      <td>0.668563</td>\n",
       "      <td>2971663.8</td>\n",
       "      <td>1270.807</td>\n",
       "      <td>0.6</td>\n",
       "    </tr>\n",
       "    <tr>\n",
       "      <th>2</th>\n",
       "      <td>2010-01-01</td>\n",
       "      <td>East</td>\n",
       "      <td>Wind</td>\n",
       "      <td>TSO</td>\n",
       "      <td>34.000</td>\n",
       "      <td>248.002</td>\n",
       "      <td>0.0</td>\n",
       "      <td>0.786551</td>\n",
       "      <td>4.149077</td>\n",
       "      <td>0.668563</td>\n",
       "      <td>2971663.8</td>\n",
       "      <td>1270.807</td>\n",
       "      <td>0.6</td>\n",
       "    </tr>\n",
       "    <tr>\n",
       "      <th>3</th>\n",
       "      <td>2010-01-01</td>\n",
       "      <td>North</td>\n",
       "      <td>Wind</td>\n",
       "      <td>DSO</td>\n",
       "      <td>340.498</td>\n",
       "      <td>248.002</td>\n",
       "      <td>0.0</td>\n",
       "      <td>0.786551</td>\n",
       "      <td>4.149077</td>\n",
       "      <td>0.668563</td>\n",
       "      <td>2971663.8</td>\n",
       "      <td>1270.807</td>\n",
       "      <td>0.6</td>\n",
       "    </tr>\n",
       "    <tr>\n",
       "      <th>4</th>\n",
       "      <td>2010-01-01</td>\n",
       "      <td>North</td>\n",
       "      <td>Wind</td>\n",
       "      <td>TSO</td>\n",
       "      <td>356.900</td>\n",
       "      <td>248.002</td>\n",
       "      <td>0.0</td>\n",
       "      <td>0.786551</td>\n",
       "      <td>4.149077</td>\n",
       "      <td>0.668563</td>\n",
       "      <td>2971663.8</td>\n",
       "      <td>1270.807</td>\n",
       "      <td>0.6</td>\n",
       "    </tr>\n",
       "  </tbody>\n",
       "</table>\n",
       "</div>"
      ],
      "text/plain": [
       "         Date   Zone  Type Connection_Type  Installed_MW  Wind_GWh  Solar_GWh  \\\n",
       "0  2010-01-01   East  Wind             DSO       349.389   248.002        0.0   \n",
       "1  2010-01-01   East  Wind             TSO       491.400   248.002        0.0   \n",
       "2  2010-01-01   East  Wind             TSO        34.000   248.002        0.0   \n",
       "3  2010-01-01  North  Wind             DSO       340.498   248.002        0.0   \n",
       "4  2010-01-01  North  Wind             TSO       356.900   248.002        0.0   \n",
       "\n",
       "   Wind_Speed_10m  Temperature_Celsius  Cloud_Cover  \\\n",
       "0        0.786551             4.149077     0.668563   \n",
       "1        0.786551             4.149077     0.668563   \n",
       "2        0.786551             4.149077     0.668563   \n",
       "3        0.786551             4.149077     0.668563   \n",
       "4        0.786551             4.149077     0.668563   \n",
       "\n",
       "   Solar_Radiation_MJ_per_m2  Wind_Capacity_MW  Solar_Capacity_MW  \n",
       "0                  2971663.8          1270.807                0.6  \n",
       "1                  2971663.8          1270.807                0.6  \n",
       "2                  2971663.8          1270.807                0.6  \n",
       "3                  2971663.8          1270.807                0.6  \n",
       "4                  2971663.8          1270.807                0.6  "
      ]
     },
     "execution_count": 60,
     "metadata": {},
     "output_type": "execute_result"
    }
   ],
   "source": [
    "import pandas as pd\n",
    "\n",
    "# Load the same file again just to be sure\n",
    "df = pd.read_csv('../data/processed/Final_Model_Ready.csv')\n",
    "\n",
    "df.head()"
   ]
  },
  {
   "cell_type": "code",
   "execution_count": 61,
   "id": "bfb9a3c4",
   "metadata": {},
   "outputs": [],
   "source": [
    "# Fill Solar_Capacity_MW NaN with 0 — safe for early years\n",
    "df['Solar_Capacity_MW'] = df['Solar_Capacity_MW'].fillna(0)"
   ]
  },
  {
   "cell_type": "code",
   "execution_count": 63,
   "id": "c07fd58e",
   "metadata": {},
   "outputs": [
    {
     "name": "stdout",
     "output_type": "stream",
     "text": [
      "\n",
      "✅ NaN count for Solar_Capacity_MW: 0\n"
     ]
    }
   ],
   "source": [
    "# Confirm it worked\n",
    "print(\"\\n✅ NaN count for Solar_Capacity_MW:\", df['Solar_Capacity_MW'].isna().sum())"
   ]
  },
  {
   "cell_type": "markdown",
   "id": "e6b3ec71",
   "metadata": {},
   "source": [
    "STEP 2.2 — Pivot to wide\n",
    "Why:\n",
    "\n",
    "Right now, you have multiple rows for the same Date (one for each (Zone, Type, Connection_Type) split)."
   ]
  },
  {
   "cell_type": "code",
   "execution_count": 64,
   "id": "bb7bdc2b",
   "metadata": {},
   "outputs": [
    {
     "name": "stdout",
     "output_type": "stream",
     "text": [
      "\n",
      "✅ Sample reshaped columns:\n",
      "          Date  East_Solar_DSO_MW  East_Solar_TSO_MW  East_Wind_DSO_MW  \\\n",
      "0  2010-01-01            106.609              520.6           349.389   \n",
      "1  2010-02-01            106.609              520.6           349.389   \n",
      "\n",
      "   East_Wind_TSO_MW  North_Wind_DSO_MW  North_Wind_TSO_MW  South_Solar_DSO_MW  \\\n",
      "0             525.4            340.498              356.9               22.97   \n",
      "1             525.4            340.498              356.9               22.97   \n",
      "\n",
      "   South_Solar_TSO_MW  South_Wind_DSO_MW  South_Wind_TSO_MW  \\\n",
      "0                87.0           1093.551            1028.65   \n",
      "1                87.0           1093.551            1028.65   \n",
      "\n",
      "   West_Solar_DSO_MW  West_Wind_DSO_MW  West_Wind_TSO_MW  \n",
      "0                9.2           441.118             803.0  \n",
      "1                9.2           441.118             803.0  \n"
     ]
    }
   ],
   "source": [
    "# Pivot regional capacity to wide\n",
    "df_pivot = df.pivot_table(\n",
    "    index='Date',\n",
    "    columns=['Zone', 'Type', 'Connection_Type'],\n",
    "    values='Installed_MW',\n",
    "    aggfunc='sum'\n",
    ").reset_index()\n",
    "\n",
    "# Flatten column names\n",
    "df_pivot.columns = ['Date'] + [\n",
    "    f\"{zone}_{typ}_{conn}_MW\"\n",
    "    for zone, typ, conn in df_pivot.columns.tolist()[1:]\n",
    "]\n",
    "\n",
    "print(\"\\n✅ Sample reshaped columns:\\n\", df_pivot.head(2))"
   ]
  },
  {
   "cell_type": "markdown",
   "id": "660f857b",
   "metadata": {},
   "source": [
    "STEP 2.3 — Get unique national data\n",
    "Why:\n",
    "Your national generation, weather, national capacity should only appear once per Date."
   ]
  },
  {
   "cell_type": "code",
   "execution_count": 66,
   "id": "bdcd164a",
   "metadata": {},
   "outputs": [
    {
     "name": "stdout",
     "output_type": "stream",
     "text": [
      "\n",
      "✅ Sample national block:\n",
      "            Date  Wind_GWh  Solar_GWh  Wind_Speed_10m  Temperature_Celsius  \\\n",
      "0    2010-01-01   248.002        0.0        0.786551             4.149077   \n",
      "16   2010-02-01   150.952        0.0        1.154458             4.126316   \n",
      "32   2010-03-01   251.394        0.0        0.872089             6.327460   \n",
      "48   2010-04-01   186.269        0.0        1.295724             8.733235   \n",
      "64   2010-05-01   168.528        0.0        1.649233            10.533146   \n",
      "80   2010-06-01   155.438        0.0        0.717556            14.229919   \n",
      "96   2010-07-01   268.309        0.0        3.323589            14.914639   \n",
      "112  2010-08-01   207.491        0.0        2.791863            14.405796   \n",
      "128  2010-09-01   288.738        0.0        2.328708            13.937576   \n",
      "144  2010-10-01   321.952        0.0        1.972318            11.298184   \n",
      "160  2010-11-01   341.232        0.0        1.474997             6.968606   \n",
      "176  2010-12-01   218.840        0.0        1.131816             2.989208   \n",
      "\n",
      "     Cloud_Cover  Solar_Radiation_MJ_per_m2  Wind_Capacity_MW  \\\n",
      "0       0.668563                  2971663.8          1270.807   \n",
      "16      0.694220                  5765193.0          1286.107   \n",
      "32      0.653995                 10048856.0          1303.657   \n",
      "48      0.674453                 16062960.0          1313.647   \n",
      "64      0.653326                 18700240.0          1313.647   \n",
      "80      0.703293                 19980432.0          1393.697   \n",
      "96      0.836001                 15352660.0          1393.697   \n",
      "112     0.702759                 15194250.0          1393.697   \n",
      "128     0.755709                 10283616.0          1395.287   \n",
      "144     0.678136                  6822046.0          1395.287   \n",
      "160     0.673554                  3360095.8          1400.410   \n",
      "176     0.690923                  2226574.2          1400.428   \n",
      "\n",
      "     Solar_Capacity_MW  \n",
      "0                  0.6  \n",
      "16                 0.6  \n",
      "32                 0.6  \n",
      "48                 0.6  \n",
      "64                 0.6  \n",
      "80                 0.6  \n",
      "96                 0.6  \n",
      "112                0.6  \n",
      "128                0.6  \n",
      "144                0.6  \n",
      "160                0.6  \n",
      "176                0.6  \n"
     ]
    }
   ],
   "source": [
    "# Drop duplicate Date rows to get one national record per month\n",
    "national_cols = [\n",
    "    'Date', 'Wind_GWh', 'Solar_GWh',\n",
    "    'Wind_Speed_10m', 'Temperature_Celsius',\n",
    "    'Cloud_Cover', 'Solar_Radiation_MJ_per_m2',\n",
    "    'Wind_Capacity_MW', 'Solar_Capacity_MW'\n",
    "]\n",
    "\n",
    "df_national = df[national_cols].drop_duplicates(subset=['Date']).copy()\n",
    "\n",
    "print(\"\\n✅ Sample national block:\\n\", df_national.head(12))"
   ]
  },
  {
   "cell_type": "markdown",
   "id": "3ac8b5d0",
   "metadata": {},
   "source": [
    "STEP 2.4 — Merge national + reshaped regional\n",
    "Why:\n",
    "\n",
    "This joins your time-varying national block with your static regional splits.\n",
    "\n",
    "Result: 1 row per Date, no duplication."
   ]
  },
  {
   "cell_type": "code",
   "execution_count": 67,
   "id": "2a42f075",
   "metadata": {},
   "outputs": [
    {
     "name": "stdout",
     "output_type": "stream",
     "text": [
      "\n",
      "✅ Final reshaped shape: (180, 22)\n"
     ]
    }
   ],
   "source": [
    "# Merge national + regional wide\n",
    "df_final_reshaped = df_national.merge(df_pivot, on='Date', how='left')\n",
    "\n",
    "print(\"\\n✅ Final reshaped shape:\", df_final_reshaped.shape)"
   ]
  },
  {
   "cell_type": "markdown",
   "id": "b491fb19",
   "metadata": {},
   "source": [
    "STEP 2.5 — Save your new reshaped version"
   ]
  },
  {
   "cell_type": "code",
   "execution_count": 68,
   "id": "39ab6661",
   "metadata": {},
   "outputs": [
    {
     "name": "stdout",
     "output_type": "stream",
     "text": [
      "\n",
      "✅ Final clean reshaped dataset saved as: Final_Model_Ready_Clean_Reshaped.csv\n"
     ]
    }
   ],
   "source": [
    "# Save final clean reshaped version\n",
    "df_final_reshaped.to_csv('../data/processed/Final_Model_Ready_Clean_Reshaped.csv', index=False)\n",
    "print(\"\\n✅ Final clean reshaped dataset saved as: Final_Model_Ready_Clean_Reshaped.csv\")"
   ]
  }
 ],
 "metadata": {
  "kernelspec": {
   "display_name": "base",
   "language": "python",
   "name": "python3"
  },
  "language_info": {
   "codemirror_mode": {
    "name": "ipython",
    "version": 3
   },
   "file_extension": ".py",
   "mimetype": "text/x-python",
   "name": "python",
   "nbconvert_exporter": "python",
   "pygments_lexer": "ipython3",
   "version": "3.12.3"
  }
 },
 "nbformat": 4,
 "nbformat_minor": 5
}
