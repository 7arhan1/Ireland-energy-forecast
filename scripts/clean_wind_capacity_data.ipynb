{
 "cells": [
  {
   "cell_type": "markdown",
   "id": "32fc7180",
   "metadata": {},
   "source": [
    "This script loads a raw Excel file containing monthly wind capacity values (MW) for the Republic of Ireland, removes unstructured header rows, corrects types, handles missing data, and prepares a model-ready .csv file — aligned with your energy and weather datasets."
   ]
  },
  {
   "cell_type": "code",
   "execution_count": null,
   "id": "b554ac19",
   "metadata": {},
   "outputs": [],
   "source": [
    "#pandas for data manipulation\n",
    "import pandas as pd\n",
    "#to help manage file paths and ensure folder creation when saving\n",
    "import os"
   ]
  },
  {
   "cell_type": "markdown",
   "id": "3ccd3efc",
   "metadata": {},
   "source": [
    "Cleans raw monthly wind capacity data:\n",
    "Skips non-data header rows\n",
    "Extracts date and capacity columns\n",
    "Converts types and formats\n",
    "Filters for data from 2008 onward\n",
    "Saves a clean CSV file to the processed folder"
   ]
  },
  {
   "cell_type": "code",
   "execution_count": 4,
   "id": "27b3ad96",
   "metadata": {},
   "outputs": [],
   "source": [
    "def clean_wind_capacity_data(input_path, output_path):\n",
    "   \n",
    "    # Load the Excel sheet, skip the first 2 rows, and focus on Date + Capacity columns\n",
    "    df_raw = pd.read_excel(input_path, sheet_name=\"Sheet1\", skiprows=2, usecols=[2, 5])\n",
    "    df_raw.columns = [\"Date\", \"Wind_Capacity_MW\"]\n",
    "\n",
    "    # Drop rows with missing values in either column\n",
    "    df_raw.dropna(subset=[\"Date\", \"Wind_Capacity_MW\"], inplace=True)\n",
    "\n",
    "    # Ensure correct data types\n",
    "    df_raw[\"Date\"] = pd.to_datetime(df_raw[\"Date\"], errors=\"coerce\")\n",
    "    df_raw[\"Wind_Capacity_MW\"] = pd.to_numeric(df_raw[\"Wind_Capacity_MW\"], errors=\"coerce\")\n",
    "\n",
    "    # Drop any rows where conversion failed\n",
    "    df_cleaned = df_raw.dropna().copy()\n",
    "\n",
    "    # Keep only data from 2008 onward\n",
    "    df_cleaned = df_cleaned[df_cleaned[\"Date\"].dt.year >= 2008]\n",
    "\n",
    "    # Sort by date and reset index\n",
    "    df_cleaned.sort_values(\"Date\", inplace=True)\n",
    "    df_cleaned.reset_index(drop=True, inplace=True)\n",
    "\n",
    "    # Create output directory if it doesn't exist\n",
    "    os.makedirs(os.path.dirname(output_path), exist_ok=True)\n",
    "\n",
    "    # Save cleaned file\n",
    "    df_cleaned.to_csv(output_path, index=False)\n",
    "    print(f\"✅ Cleaned wind capacity data saved to: {output_path}\")\n",
    "\n",
    "    return df_cleaned\n"
   ]
  },
  {
   "cell_type": "code",
   "execution_count": 5,
   "id": "e186315a",
   "metadata": {},
   "outputs": [
    {
     "name": "stdout",
     "output_type": "stream",
     "text": [
      "✅ Cleaned wind capacity data saved to: ../data/processed/Cleaned_Wind_Capacity.csv\n"
     ]
    }
   ],
   "source": [
    "#Run the Cleaning Function(When Script is Executed)\n",
    "if __name__ == \"__main__\":\n",
    "    # Define input and output paths using your locked structure\n",
    "    input_file = \"../data/raw/Wind_monthly_capacity_data.xlsx\"\n",
    "    output_file = \"../data/processed/Cleaned_Wind_Capacity.csv\"\n",
    "\n",
    "    # Execute cleaning\n",
    "    clean_wind_capacity_data(input_file, output_file)"
   ]
  }
 ],
 "metadata": {
  "kernelspec": {
   "display_name": "base",
   "language": "python",
   "name": "python3"
  },
  "language_info": {
   "codemirror_mode": {
    "name": "ipython",
    "version": 3
   },
   "file_extension": ".py",
   "mimetype": "text/x-python",
   "name": "python",
   "nbconvert_exporter": "python",
   "pygments_lexer": "ipython3",
   "version": "3.12.4"
  }
 },
 "nbformat": 4,
 "nbformat_minor": 5
}
