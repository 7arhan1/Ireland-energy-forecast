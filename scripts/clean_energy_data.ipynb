{
 "cells": [
  {
   "cell_type": "markdown",
   "id": "9a5a4824",
   "metadata": {},
   "source": [
    " 📄 clean_energy_data.py — Step-by-Step Explanation\n",
    "\n",
    "This script is used to clean Ireland's wind and solar energy data from SEAI. It prepares the raw Excel file for modeling by fixing missing values, creating proper timestamps, and saving a clean CSV.\n",
    "\n",
    "## What the Script Does (in Simple Words)\n",
    "\n",
    "### 1. **Import Required Libraries**"
   ]
  },
  {
   "cell_type": "code",
   "execution_count": 1,
   "id": "c94c7ac3",
   "metadata": {},
   "outputs": [],
   "source": [
    "import pandas as pd\n",
    "import os"
   ]
  },
  {
   "cell_type": "markdown",
   "id": "edc872a8",
   "metadata": {},
   "source": [
    "input_path: location of the raw Excel file\n",
    "output_path: where the cleaned CSV will be saved\n",
    "Loads the data into a DataFrame.\n",
    "Some rows are missing the year → this fills them in,Converts them into integers\n",
    "The Unit column always says 'GWh' → not useful\n",
    "Combines month and year into a clean date like 2018-01-01\n",
    "Keeps only the columns needed for your model\n",
    "Standardizes column names for readability and code clarity\n",
    "Sorts the data by date so the time series is correct\n",
    "Makes sure the save folder exists, saves the cleaned data to a .csv file\n",
    "Run the Script(Only When Called Directly)\n",
    "This runs the cleaning function when the script is executed."
   ]
  },
  {
   "cell_type": "code",
   "execution_count": null,
   "id": "2258a4f3",
   "metadata": {},
   "outputs": [
    {
     "name": "stdout",
     "output_type": "stream",
     "text": [
      "Cleaned energy data saved to: ../data/processed/Cleaned_Energy_Data.csv\n"
     ]
    }
   ],
   "source": [
    "\n",
    "def clean_energy_data(input_path, output_path):\n",
    "\n",
    "    # Load the Excel file\n",
    "    df = pd.read_excel(input_path)\n",
    "\n",
    "    # Fill missing years\n",
    "    df[\"Year of Period\"] = df[\"Year of Period\"].ffill().astype(int)\n",
    "\n",
    "    # Drop the 'Unit' column (it's always 'GWh')\n",
    "    df.drop(columns=[\"Unit\"], inplace=True, errors='ignore')\n",
    "\n",
    "    # Create a proper 'Date' column\n",
    "    df[\"Date\"] = pd.to_datetime(df[\"Month of Period\"] + \" \" + df[\"Year of Period\"].astype(str), format='%B %Y')\n",
    "\n",
    "    # Keep only required columns\n",
    "    df_cleaned = df[[\"Date\", \"Wind\", \"Solar Farms\"]].copy()\n",
    "\n",
    "    # Rename columns to follow modeling conventions\n",
    "    df_cleaned.columns = [\"Date\", \"Wind_GWh\", \"Solar_GWh\"]\n",
    "\n",
    "    # Sort by date\n",
    "    df_cleaned.sort_values(\"Date\", inplace=True)\n",
    "    df_cleaned.reset_index(drop=True, inplace=True)\n",
    "\n",
    "    # Save cleaned data\n",
    "    os.makedirs(os.path.dirname(output_path), exist_ok=True)\n",
    "    df_cleaned.to_csv(output_path, index=False)\n",
    "    print(f\"Cleaned energy data saved to: {output_path}\")\n",
    "\n",
    "    return df_cleaned\n",
    "\n",
    "\n",
    "if __name__ == \"__main__\":\n",
    "    # File paths\n",
    "    input_file = \"../data/raw/Energy_Data.xlsx\"\n",
    "    output_file = \"../data/processed/Cleaned_Energy_Data.csv\"\n",
    "\n",
    "    # Run cleaning\n",
    "    clean_energy_data(input_file, output_file)\n"
   ]
  }
 ],
 "metadata": {
  "kernelspec": {
   "display_name": "base",
   "language": "python",
   "name": "python3"
  },
  "language_info": {
   "codemirror_mode": {
    "name": "ipython",
    "version": 3
   },
   "file_extension": ".py",
   "mimetype": "text/x-python",
   "name": "python",
   "nbconvert_exporter": "python",
   "pygments_lexer": "ipython3",
   "version": "3.12.3"
  }
 },
 "nbformat": 4,
 "nbformat_minor": 5
}
