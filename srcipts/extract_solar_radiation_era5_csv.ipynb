{
 "cells": [
  {
   "cell_type": "markdown",
   "id": "a43b4ca1",
   "metadata": {},
   "source": [
    "This script loads ERA5 monthly NetCDF data, extracts ssrd (surface solar radiation downward), averages it across Ireland, and saves the cleaned output in a .csv format — optimized for ML workflows."
   ]
  },
  {
   "cell_type": "code",
   "execution_count": 1,
   "id": "04c25c06",
   "metadata": {},
   "outputs": [
    {
     "name": "stdout",
     "output_type": "stream",
     "text": [
      "Requirement already satisfied: netCDF4 in c:\\users\\sfarh\\anaconda3\\lib\\site-packages (1.7.2)\n",
      "Requirement already satisfied: cftime in c:\\users\\sfarh\\anaconda3\\lib\\site-packages (from netCDF4) (1.6.4)\n",
      "Requirement already satisfied: certifi in c:\\users\\sfarh\\anaconda3\\lib\\site-packages (from netCDF4) (2025.6.15)\n",
      "Requirement already satisfied: numpy in c:\\users\\sfarh\\anaconda3\\lib\\site-packages (from netCDF4) (1.26.4)\n",
      "Note: you may need to restart the kernel to use updated packages.\n"
     ]
    }
   ],
   "source": [
    "pip install netCDF4"
   ]
  },
  {
   "cell_type": "code",
   "execution_count": null,
   "id": "a8aa42c4",
   "metadata": {},
   "outputs": [],
   "source": [
    "#for working with NetCDF\n",
    "import xarray as xr\n",
    "import pandas as pd\n",
    "import os"
   ]
  },
  {
   "cell_type": "code",
   "execution_count": 2,
   "id": "6495430e",
   "metadata": {},
   "outputs": [],
   "source": [
    "def extract_solar_radiation_to_csv(input_path, output_path):\n",
    "    \"\"\"\n",
    "    Loads an ERA5 NetCDF file, extracts solar radiation (ssrd),\n",
    "    averages it over all grid points in Ireland, and saves as CSV.\n",
    "    \"\"\"\n",
    "    # Step 1: Load the NetCDF dataset\n",
    "    ds = xr.open_dataset(input_path)\n",
    "\n",
    "    # Step 2: Average over all lat/lon (get Ireland-wide value)\n",
    "    df = ds[\"ssrd\"].mean(dim=[\"latitude\", \"longitude\"]).to_dataframe().reset_index()\n",
    "\n",
    "    # Step 3: Keep only time and value columns, rename for clarity\n",
    "    df = df[[\"valid_time\", \"ssrd\"]]\n",
    "    df.columns = [\"Date\", \"Solar_Radiation_MJ_per_m2\"]\n",
    "\n",
    "    # Step 4: Sort and clean index\n",
    "    df.sort_values(\"Date\", inplace=True)\n",
    "    df.reset_index(drop=True, inplace=True)\n",
    "\n",
    "    # Step 5: Ensure output folder exists\n",
    "    os.makedirs(os.path.dirname(output_path), exist_ok=True)\n",
    "\n",
    "    # Step 6: Save to CSV\n",
    "    df.to_csv(output_path, index=False)\n",
    "    print(f\"✅ Solar radiation data saved to: {output_path}\")\n",
    "\n",
    "    return df\n"
   ]
  },
  {
   "cell_type": "code",
   "execution_count": 3,
   "id": "602f222d",
   "metadata": {},
   "outputs": [
    {
     "name": "stdout",
     "output_type": "stream",
     "text": [
      "✅ Solar radiation data saved to: ../data/processed/Solar_Radiation_Monthly_Ireland.csv\n"
     ]
    }
   ],
   "source": [
    "if __name__ == \"__main__\":\n",
    "    input_file = \"../data/raw/data_stream-moda_stepType-avgad.nc\"\n",
    "    output_file = \"../data/processed/Solar_Radiation_Monthly_Ireland.csv\"\n",
    "    extract_solar_radiation_to_csv(input_file, output_file)\n"
   ]
  },
  {
   "cell_type": "markdown",
   "id": "f3c96cb5",
   "metadata": {},
   "source": [
    "Clean & Export ERA5 NetCDF to Excel\n",
    "\n",
    "This script processes ERA5 monthly .nc files by:\n",
    "Extracting ssrd (surface solar radiation)\n",
    "Averaging it over all Ireland grid points\n",
    "Saving a clean monthly time series to Excel (.xlsx)"
   ]
  },
  {
   "cell_type": "code",
   "execution_count": null,
   "id": "d2835051",
   "metadata": {},
   "outputs": [],
   "source": [
    "#xarray to load .nc files\n",
    "import xarray as xr\n",
    "#pandas to clean and export the data\n",
    "import pandas as pd\n",
    "#to handle folders and paths\n",
    "import os"
   ]
  },
  {
   "cell_type": "code",
   "execution_count": null,
   "id": "e8eba384",
   "metadata": {},
   "outputs": [],
   "source": [
    "def extract_solar_radiation_to_excel(input_path, output_path):\n",
    "    \"\"\"\n",
    "    Loads an ERA5 NetCDF file, extracts monthly solar radiation (ssrd),\n",
    "    averages it over all grid points in Ireland, and exports to Excel.\n",
    "    \"\"\"\n",
    "    # Load the NetCDF dataset\n",
    "    ds = xr.open_dataset(input_path)\n",
    "\n",
    "    # Extract and average solar radiation over space (lat/lon)\n",
    "    df = ds[\"ssrd\"].mean(dim=[\"latitude\", \"longitude\"]).to_dataframe().reset_index()\n",
    "\n",
    "    # Keep only necessary columns and rename them\n",
    "    df = df[[\"valid_time\", \"ssrd\"]]\n",
    "    df.columns = [\"Date\", \"Solar_Radiation_MJ_per_m2\"]\n",
    "\n",
    "    # Sort by date\n",
    "    df.sort_values(\"Date\", inplace=True)\n",
    "    df.reset_index(drop=True, inplace=True)\n",
    "\n",
    "    # Ensure output directory exists\n",
    "    os.makedirs(os.path.dirname(output_path), exist_ok=True)\n",
    "\n",
    "    # Export to Excel\n",
    "    df.to_excel(output_path, index=False)\n",
    "    print(f\"✅ Monthly solar radiation exported to: {output_path}\")\n",
    "\n",
    "    return df\n"
   ]
  },
  {
   "cell_type": "code",
   "execution_count": null,
   "id": "e828539b",
   "metadata": {},
   "outputs": [],
   "source": [
    "if __name__ == \"__main__\":\n",
    "    input_file = \"../data/raw/data_stream-moda_stepType-avgad.nc\"\n",
    "    output_file = \"../data/processed/Solar_Radiation_Monthly_Ireland.xlsx\"\n",
    "    extract_solar_radiation_to_excel(input_file, output_file)"
   ]
  }
 ],
 "metadata": {
  "kernelspec": {
   "display_name": "base",
   "language": "python",
   "name": "python3"
  },
  "language_info": {
   "codemirror_mode": {
    "name": "ipython",
    "version": 3
   },
   "file_extension": ".py",
   "mimetype": "text/x-python",
   "name": "python",
   "nbconvert_exporter": "python",
   "pygments_lexer": "ipython3",
   "version": "3.12.3"
  }
 },
 "nbformat": 4,
 "nbformat_minor": 5
}
