{
 "cells": [
  {
   "cell_type": "markdown",
   "id": "f717bf0e",
   "metadata": {},
   "source": [
    "STEP 1 — Merge National Time-Series + Monthly Capacity"
   ]
  },
  {
   "cell_type": "code",
   "execution_count": 1,
   "id": "e857fbd5",
   "metadata": {},
   "outputs": [],
   "source": [
    "import pandas as pd\n",
    "\n",
    "# === 1️⃣ File paths ===\n",
    "energy_file = '../data/processed/Cleaned_Energy_Data.csv'\n",
    "wind_weather_file = '../data/processed/Cleaned_Weather_Data_ERA5.csv'\n",
    "solar_weather_file = '../data/processed/Solar_Radiation_Monthly_Ireland.csv'\n",
    "wind_capacity_file = '../data/processed/Cleaned_Wind_Capacity.csv'\n",
    "solar_capacity_file = '../data/processed/Cleaned_Solar_Capacity.csv'\n",
    "\n",
    "output_file = '../data/processed/National_TimeSeries_With_Capacity.csv'"
   ]
  },
  {
   "cell_type": "code",
   "execution_count": 2,
   "id": "95811e0e",
   "metadata": {},
   "outputs": [],
   "source": [
    "# === 2️⃣ Load files ===\n",
    "df_energy = pd.read_csv(energy_file)\n",
    "df_wind_weather = pd.read_csv(wind_weather_file)\n",
    "df_solar_weather = pd.read_csv(solar_weather_file)\n",
    "df_wind_cap = pd.read_csv(wind_capacity_file)\n",
    "df_solar_cap = pd.read_csv(solar_capacity_file)"
   ]
  },
  {
   "cell_type": "code",
   "execution_count": 3,
   "id": "47e4bd39",
   "metadata": {},
   "outputs": [],
   "source": [
    "# === 3️⃣ Standardize Dates ===\n",
    "# Energy: assume already YYYY-MM-DD\n",
    "df_energy['Date'] = pd.to_datetime(df_energy['Date']).dt.strftime('%Y-%m-%d')"
   ]
  },
  {
   "cell_type": "code",
   "execution_count": 4,
   "id": "febb867f",
   "metadata": {},
   "outputs": [],
   "source": [
    "# Wind Weather: drop ERA5 meta\n",
    "df_wind_weather['Date'] = pd.to_datetime(df_wind_weather['Date']).dt.strftime('%Y-%m-%d')\n",
    "df_wind_weather = df_wind_weather.drop(columns=['number', 'expver'], errors='ignore')"
   ]
  },
  {
   "cell_type": "code",
   "execution_count": 5,
   "id": "7fed1fd3",
   "metadata": {},
   "outputs": [],
   "source": [
    "# Solar Radiation: fix timestamp, keep YYYY-MM-DD only\n",
    "df_solar_weather['Date'] = pd.to_datetime(df_solar_weather['Date']).dt.strftime('%Y-%m-%d')"
   ]
  },
  {
   "cell_type": "code",
   "execution_count": 6,
   "id": "7beb235c",
   "metadata": {},
   "outputs": [],
   "source": [
    "# Wind Capacity: already good\n",
    "df_wind_cap['Date'] = pd.to_datetime(df_wind_cap['Date']).dt.strftime('%Y-%m-%d')"
   ]
  },
  {
   "cell_type": "code",
   "execution_count": 7,
   "id": "ba04f879",
   "metadata": {},
   "outputs": [],
   "source": [
    "# Solar Capacity: fix DD-MM-YYYY → YYYY-MM-DD\n",
    "df_solar_cap['Date'] = pd.to_datetime(df_solar_cap['Date'], format='%d-%m-%Y').dt.strftime('%Y-%m-%d')"
   ]
  },
  {
   "cell_type": "code",
   "execution_count": 8,
   "id": "45ca8f93",
   "metadata": {},
   "outputs": [],
   "source": [
    "# === 4️⃣ Merge step-by-step ===\n",
    "df_merged = df_energy.merge(df_wind_weather, on='Date', how='left')\n",
    "df_merged = df_merged.merge(df_solar_weather, on='Date', how='left')\n",
    "df_merged = df_merged.merge(df_wind_cap, on='Date', how='left')\n",
    "df_merged = df_merged.merge(df_solar_cap, on='Date', how='left')"
   ]
  },
  {
   "cell_type": "code",
   "execution_count": 9,
   "id": "8f19fa97",
   "metadata": {},
   "outputs": [
    {
     "name": "stdout",
     "output_type": "stream",
     "text": [
      "\n",
      "✅ Final National Time-Series Shape: (180, 9)\n",
      "         Date  Wind_GWh  Solar_GWh  Wind_Speed_10m  Temperature_Celsius  \\\n",
      "0  2010-01-01   248.002        0.0        0.786551             4.149077   \n",
      "1  2010-02-01   150.952        0.0        1.154458             4.126316   \n",
      "2  2010-03-01   251.394        0.0        0.872089             6.327460   \n",
      "\n",
      "   Cloud_Cover  Solar_Radiation_MJ_per_m2  Wind_Capacity_MW  Solar_Capacity_MW  \n",
      "0     0.668563                  2971663.8          1270.807                0.6  \n",
      "1     0.694220                  5765193.0          1286.107                0.6  \n",
      "2     0.653995                 10048856.0          1303.657                0.6  \n"
     ]
    }
   ],
   "source": [
    "# === 5️⃣ Final checks ===\n",
    "print(\"\\n✅ Final National Time-Series Shape:\", df_merged.shape)\n",
    "print(df_merged.head(3))"
   ]
  },
  {
   "cell_type": "code",
   "execution_count": 10,
   "id": "90116ee5",
   "metadata": {},
   "outputs": [
    {
     "name": "stdout",
     "output_type": "stream",
     "text": [
      "\n",
      "✅ STEP 1 saved: ../data/processed/National_TimeSeries_With_Capacity.csv\n"
     ]
    }
   ],
   "source": [
    "# === 6️⃣ Save output ===\n",
    "df_merged.to_csv(output_file, index=False)\n",
    "print(f\"\\n✅ STEP 1 saved: {output_file}\")"
   ]
  },
  {
   "cell_type": "markdown",
   "id": "786f89c2",
   "metadata": {},
   "source": [
    "STEP 2 — Expand Regional Capacity Table"
   ]
  },
  {
   "cell_type": "code",
   "execution_count": 18,
   "id": "d3aabe4d",
   "metadata": {},
   "outputs": [],
   "source": [
    "import pandas as pd\n",
    "\n",
    "# === 1️⃣ File paths ===\n",
    "regional_file = '../data/processed/Regional_Capacity_Table.csv'\n",
    "national_ts_file = '../data/processed/National_TimeSeries_With_Capacity.csv'\n",
    "output_file = '../data/processed/Regional_Capacity_Expanded.csv'"
   ]
  },
  {
   "cell_type": "code",
   "execution_count": 19,
   "id": "1ec2f0ae",
   "metadata": {},
   "outputs": [],
   "source": [
    "# === 2️⃣ Load both ===\n",
    "df_regional = pd.read_csv(regional_file)\n",
    "df_national_ts = pd.read_csv(national_ts_file)"
   ]
  },
  {
   "cell_type": "code",
   "execution_count": 20,
   "id": "b0cef427",
   "metadata": {},
   "outputs": [
    {
     "name": "stdout",
     "output_type": "stream",
     "text": [
      "✅ Number of unique months: 180\n"
     ]
    }
   ],
   "source": [
    "# === 3️⃣ Get unique Dates from national time-series ===\n",
    "unique_dates = df_national_ts['Date'].unique()\n",
    "print(f\"✅ Number of unique months: {len(unique_dates)}\")"
   ]
  },
  {
   "cell_type": "code",
   "execution_count": 21,
   "id": "7dd4838e",
   "metadata": {},
   "outputs": [],
   "source": [
    "# === 4️⃣ Create expanded Regional table ===\n",
    "# Add a dummy key to cross join\n",
    "df_regional['key'] = 1\n",
    "df_dates = pd.DataFrame({'Date': unique_dates})\n",
    "df_dates['key'] = 1"
   ]
  },
  {
   "cell_type": "code",
   "execution_count": 22,
   "id": "7a4aa02e",
   "metadata": {},
   "outputs": [],
   "source": [
    "# Cross join: each Regional row repeats for every Date\n",
    "df_expanded = pd.merge(df_dates, df_regional, on='key').drop(columns=['key'])"
   ]
  },
  {
   "cell_type": "code",
   "execution_count": 23,
   "id": "79d0d677",
   "metadata": {},
   "outputs": [
    {
     "name": "stdout",
     "output_type": "stream",
     "text": [
      "\n",
      "✅ Sample of expanded Regional Capacity:\n",
      "         Date   Zone   Type Connection_Type  Installed_MW\n",
      "0  2010-01-01   East   Wind             DSO       349.389\n",
      "1  2010-01-01   East   Wind             TSO       491.400\n",
      "2  2010-01-01   East  Wind              TSO        34.000\n",
      "3  2010-01-01  North   Wind             DSO       340.498\n",
      "4  2010-01-01  North   Wind             TSO       356.900\n",
      "\n",
      "✅ Final expanded shape: (2880, 5)\n"
     ]
    }
   ],
   "source": [
    "# === 5️⃣ Sanity check ===\n",
    "print(\"\\n✅ Sample of expanded Regional Capacity:\")\n",
    "print(df_expanded.head(5))\n",
    "print(\"\\n✅ Final expanded shape:\", df_expanded.shape)"
   ]
  },
  {
   "cell_type": "code",
   "execution_count": 24,
   "id": "7bcb5b09",
   "metadata": {},
   "outputs": [],
   "source": [
    "df_expanded['Type'] = df_expanded['Type'].str.strip()"
   ]
  },
  {
   "cell_type": "code",
   "execution_count": 25,
   "id": "32656cd1",
   "metadata": {},
   "outputs": [
    {
     "name": "stdout",
     "output_type": "stream",
     "text": [
      "\n",
      "✅ STEP 2 saved: ../data/processed/Regional_Capacity_Expanded.csv\n"
     ]
    }
   ],
   "source": [
    "# === 6️⃣ Save output ===\n",
    "df_expanded.to_csv(output_file, index=False)\n",
    "print(f\"\\n✅ STEP 2 saved: {output_file}\")"
   ]
  },
  {
   "cell_type": "markdown",
   "id": "739de071",
   "metadata": {},
   "source": [
    "STEP 3 — Final Merge: National + Regional"
   ]
  },
  {
   "cell_type": "code",
   "execution_count": 26,
   "id": "99375ba6",
   "metadata": {},
   "outputs": [],
   "source": [
    "import pandas as pd"
   ]
  },
  {
   "cell_type": "code",
   "execution_count": 27,
   "id": "d29ff94f",
   "metadata": {},
   "outputs": [],
   "source": [
    "# === 1️⃣ File paths ===\n",
    "national_ts_file = '../data/processed/National_TimeSeries_With_Capacity.csv'\n",
    "regional_expanded_file = '../data/processed/Regional_Capacity_Expanded.csv'\n",
    "output_file = '../data/processed/Final_Model_Ready.csv'"
   ]
  },
  {
   "cell_type": "code",
   "execution_count": 28,
   "id": "3c90517f",
   "metadata": {},
   "outputs": [],
   "source": [
    "# === 2️⃣ Load both ===\n",
    "df_national = pd.read_csv(national_ts_file)\n",
    "df_regional = pd.read_csv(regional_expanded_file)"
   ]
  },
  {
   "cell_type": "code",
   "execution_count": 29,
   "id": "0f5138c1",
   "metadata": {},
   "outputs": [],
   "source": [
    "# === 3️⃣ Merge: cross join on Date\n",
    "df_final = pd.merge(\n",
    "    df_regional,\n",
    "    df_national,\n",
    "    on='Date',\n",
    "    how='left'\n",
    ")"
   ]
  },
  {
   "cell_type": "code",
   "execution_count": 30,
   "id": "45e7b720",
   "metadata": {},
   "outputs": [
    {
     "name": "stdout",
     "output_type": "stream",
     "text": [
      "\n",
      "✅ Final merged shape: (2880, 13)\n",
      "\n",
      "✅ Sample rows:\n",
      "         Date   Zone  Type Connection_Type  Installed_MW  Wind_GWh  Solar_GWh  \\\n",
      "0  2010-01-01   East  Wind             DSO       349.389   248.002        0.0   \n",
      "1  2010-01-01   East  Wind             TSO       491.400   248.002        0.0   \n",
      "2  2010-01-01   East  Wind             TSO        34.000   248.002        0.0   \n",
      "3  2010-01-01  North  Wind             DSO       340.498   248.002        0.0   \n",
      "4  2010-01-01  North  Wind             TSO       356.900   248.002        0.0   \n",
      "\n",
      "   Wind_Speed_10m  Temperature_Celsius  Cloud_Cover  \\\n",
      "0        0.786551             4.149077     0.668563   \n",
      "1        0.786551             4.149077     0.668563   \n",
      "2        0.786551             4.149077     0.668563   \n",
      "3        0.786551             4.149077     0.668563   \n",
      "4        0.786551             4.149077     0.668563   \n",
      "\n",
      "   Solar_Radiation_MJ_per_m2  Wind_Capacity_MW  Solar_Capacity_MW  \n",
      "0                  2971663.8          1270.807                0.6  \n",
      "1                  2971663.8          1270.807                0.6  \n",
      "2                  2971663.8          1270.807                0.6  \n",
      "3                  2971663.8          1270.807                0.6  \n",
      "4                  2971663.8          1270.807                0.6  \n"
     ]
    }
   ],
   "source": [
    "# === 4️⃣ Sanity checks ===\n",
    "print(\"\\n✅ Final merged shape:\", df_final.shape)\n",
    "print(\"\\n✅ Sample rows:\")\n",
    "print(df_final.head(5))"
   ]
  },
  {
   "cell_type": "code",
   "execution_count": 31,
   "id": "2c86c6cf",
   "metadata": {},
   "outputs": [
    {
     "name": "stdout",
     "output_type": "stream",
     "text": [
      "\n",
      "✅ Zones in final: ['East' 'North' 'South' 'West']\n",
      "✅ Types in final: ['Wind' 'Solar']\n"
     ]
    }
   ],
   "source": [
    "# Check unique zones and types\n",
    "print(\"\\n✅ Zones in final:\", df_final['Zone'].unique())\n",
    "print(\"✅ Types in final:\", df_final['Type'].unique())"
   ]
  },
  {
   "cell_type": "code",
   "execution_count": 32,
   "id": "b3339707",
   "metadata": {},
   "outputs": [
    {
     "name": "stdout",
     "output_type": "stream",
     "text": [
      "\n",
      "✅ STEP 3 saved: ../data/processed/Final_Model_Ready.csv\n"
     ]
    }
   ],
   "source": [
    "# === 5️⃣ Save final model-ready dataset ===\n",
    "df_final.to_csv(output_file, index=False)\n",
    "print(f\"\\n✅ STEP 3 saved: {output_file}\")"
   ]
  }
 ],
 "metadata": {
  "kernelspec": {
   "display_name": "base",
   "language": "python",
   "name": "python3"
  },
  "language_info": {
   "codemirror_mode": {
    "name": "ipython",
    "version": 3
   },
   "file_extension": ".py",
   "mimetype": "text/x-python",
   "name": "python",
   "nbconvert_exporter": "python",
   "pygments_lexer": "ipython3",
   "version": "3.12.3"
  }
 },
 "nbformat": 4,
 "nbformat_minor": 5
}
