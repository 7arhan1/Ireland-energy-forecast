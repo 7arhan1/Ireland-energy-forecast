{
 "cells": [
  {
   "cell_type": "code",
   "execution_count": 1,
   "id": "c2726f4a",
   "metadata": {},
   "outputs": [],
   "source": [
    "import pandas as pd"
   ]
  },
  {
   "cell_type": "code",
   "execution_count": 6,
   "id": "6a279463",
   "metadata": {},
   "outputs": [],
   "source": [
    "# Define input/output paths\n",
    "raw_file = \"../data/raw/Transmission_Connected_Wind_Gen_in_Ireland.xlsx\"\n",
    "output_file = \"../data/processed/TSO_Wind_Capacity_Clean.csv\""
   ]
  },
  {
   "cell_type": "code",
   "execution_count": 7,
   "id": "7b8056d8",
   "metadata": {},
   "outputs": [],
   "source": [
    "# === 2️⃣ Load the Excel file ===\n",
    "xls = pd.ExcelFile(raw_file)\n",
    "sheet_names = xls.sheet_names  # Check sheet names if needed\n",
    "df = pd.read_excel(xls, sheet_name=sheet_names[0])  # Use first sheet"
   ]
  },
  {
   "cell_type": "code",
   "execution_count": 8,
   "id": "4d128757",
   "metadata": {},
   "outputs": [],
   "source": [
    "# === 3️⃣ Rename and select relevant columns ===\n",
    "df_clean = df.rename(columns={\n",
    "    'Generator': 'Project',\n",
    "    'Type': 'Type',\n",
    "    'Category': 'Category',\n",
    "    'Installed \\nCapacity \\n(MW)': 'Installed_MW',\n",
    "    'Full / Latest Connection\\nDate': 'Connection_Date',\n",
    "    'County': 'County'\n",
    "})"
   ]
  },
  {
   "cell_type": "code",
   "execution_count": 9,
   "id": "baa29b78",
   "metadata": {},
   "outputs": [],
   "source": [
    "# === 4️⃣ Keep only required columns ===\n",
    "df_clean = df_clean[['Project', 'Type', 'Category', 'Installed_MW', 'Connection_Date', 'County']]"
   ]
  },
  {
   "cell_type": "code",
   "execution_count": 10,
   "id": "8a4a9f06",
   "metadata": {},
   "outputs": [],
   "source": [
    "# === 5️⃣ Add Connection_Type ===\n",
    "df_clean['Connection_Type'] = 'TSO'"
   ]
  },
  {
   "cell_type": "code",
   "execution_count": 11,
   "id": "4380a5c8",
   "metadata": {},
   "outputs": [],
   "source": [
    "# === 6️⃣ Drop rows with missing Installed_MW or County (optional but recommended) ===\n",
    "df_clean = df_clean.dropna(subset=['Installed_MW', 'County'])"
   ]
  },
  {
   "cell_type": "code",
   "execution_count": 13,
   "id": "1cd2cb5f",
   "metadata": {},
   "outputs": [
    {
     "name": "stdout",
     "output_type": "stream",
     "text": [
      "✅ Cleaned TSO Wind capacity saved to: ../data/processed/TSO_Wind_Capacity_Clean.csv\n"
     ]
    }
   ],
   "source": [
    "# === 7️⃣ Save to processed folder ===\n",
    "df_clean.to_csv(output_file, index=False)\n",
    "print(f\"✅ Cleaned TSO Wind capacity saved to: {output_file}\")"
   ]
  },
  {
   "cell_type": "markdown",
   "id": "8ffa4d66",
   "metadata": {},
   "source": [
    " DSO Wind Cleaning + Mapping Code"
   ]
  },
  {
   "cell_type": "code",
   "execution_count": 14,
   "id": "e9048926",
   "metadata": {},
   "outputs": [],
   "source": [
    "# === 1️⃣ File paths ===\n",
    "raw_file = '../data/raw/Distribution_Connected_Wind_Gen_in_Ireland.xlsx'\n",
    "output_file = '../data/processed/DSO_Wind_Capacity_Clean.csv'"
   ]
  },
  {
   "cell_type": "code",
   "execution_count": 15,
   "id": "3233b576",
   "metadata": {},
   "outputs": [],
   "source": [
    "# === 2️⃣ Load Excel ===\n",
    "xls = pd.ExcelFile(raw_file)\n",
    "sheet_names = xls.sheet_names\n",
    "df = pd.read_excel(xls, sheet_name=sheet_names[0])"
   ]
  },
  {
   "cell_type": "code",
   "execution_count": 16,
   "id": "dbb7d54c",
   "metadata": {},
   "outputs": [],
   "source": [
    "# === 3️⃣ Rename and select ===\n",
    "df_clean = df.rename(columns={\n",
    "    'DSO Windfarm': 'Project',\n",
    "    'Type': 'Type',\n",
    "    'MEC (MW)': 'Installed_MW',\n",
    "    'Connection Date': 'Connection_Date',\n",
    "    '110kV Station': 'Station'\n",
    "})"
   ]
  },
  {
   "cell_type": "code",
   "execution_count": 17,
   "id": "5caa9ded",
   "metadata": {},
   "outputs": [],
   "source": [
    "df_clean = df_clean[['Project', 'Type', 'Installed_MW', 'Connection_Date', 'Station']]"
   ]
  },
  {
   "cell_type": "code",
   "execution_count": 18,
   "id": "826aa510",
   "metadata": {},
   "outputs": [],
   "source": [
    "# === 4️⃣ Add Connection_Type ===\n",
    "df_clean['Connection_Type'] = 'DSO'"
   ]
  },
  {
   "cell_type": "code",
   "execution_count": 19,
   "id": "9ad7869f",
   "metadata": {},
   "outputs": [],
   "source": [
    "# === 5️⃣ Manual station → county mapping ===\n",
    "station_to_county = {\n",
    "    \"Arigna\": \"Roscommon\",\n",
    "    \"Cauteen T144\": \"Tipperary\",\n",
    "    \"Coomataggart\": \"Cork\",\n",
    "    \"Reamore T142\": \"Kerry\",\n",
    "    \"Salthill\": \"Galway\",\n",
    "    \"Dalton T141\": \"Tipperary\",\n",
    "    \"Lisheen\": \"Tipperary\",\n",
    "    \"BOOLTIAGH T143\": \"Clare\",\n",
    "    \"Cauteen T141\": \"Tipperary\",\n",
    "    \"Cordal\": \"Kerry\",\n",
    "    \"Arklow\": \"Wicklow\",\n",
    "    \"Glenree\": \"Donegal\",\n",
    "    \"GARVAGH\": \"Derry\",\n",
    "    \"Charleville T141\": \"Cork\",\n",
    "    \"Cauteen T142\": \"Tipperary\",\n",
    "    \"Cauteen T142\": \"Tipperary\",\n",
    "    \"Ikerrin\": \"Tipperary\",\n",
    "    \"Barrymore\": \"Cork\",\n",
    "    \"SORNE HILL\": \"Donegal\",\n",
    "    \"Glenree\": \"Donegal\",\n",
    "    \"Glenlara T142\": \"Cork\",\n",
    "    \"Arklow\": \"Wicklow\",\n",
    "    \"BOOLTIAGH T141\": \"Clare\",\n",
    "    \"Macroom\": \"Cork\",\n",
    "    \"Meath Hill\": \"Meath\",\n",
    "    \"Trien T143\": \"Roscommon\",\n",
    "    \"Carlow\": \"Carlow\",\n",
    "    \"Wexford\": \"Wexford\",\n",
    "    \"Cloghboola\": \"Cork\",\n",
    "    \"BOGGERAGH\": \"Cork\",\n",
    "    \"Ballylickey\": \"Cork\",\n",
    "    \"TAWNAGHMORE\": \"Mayo\",\n",
    "    \"Castlebar\": \"Mayo\",\n",
    "    \"Cordal\": \"Kerry\",\n",
    "    \"Charleville T141\": \"Cork\",\n",
    "    \"Arklow\": \"Wicklow\",\n",
    "    \"Kilpaddoge\": \"Kerry\",\n",
    "    \"Ardnagappary\": \"Mayo\",\n",
    "    \"Cathaleens Fall\": \"Donegal\",\n",
    "    \"Trien T143\": \"Roscommon\",\n",
    "    \"Dunmanway\": \"Cork\",\n",
    "    \"Glenlara T141\": \"Cork\",\n",
    "    \"Dundalk\": \"Louth\",\n",
    "    \"Reamore T141\": \"Kerry\",\n",
    "    \"Tralee\": \"Kerry\",\n",
    "    \"Rathkeale\": \"Limerick\",\n",
    "    \"Letterkenny\": \"Donegal\",\n",
    "    \"Tralee\": \"Kerry\",\n",
    "    \"Crory T121\": \"Wexford\",\n",
    "    \"Crory T121\": \"Wexford\",\n",
    "    \"Trillick\": \"Tyrone\",\n",
    "    \"Thurles\": \"Tipperary\",\n",
    "    \"Glenlara T141\": \"Cork\",\n",
    "    \"Tullabrack\": \"Clare\",\n",
    "    \"BOOLTIAGH T143\": \"Clare\",\n",
    "    \"Cauteen T141\": \"Tipperary\",\n",
    "    \"Tullabrack\": \"Clare\",\n",
    "    \"Cloghboola\": \"Cork\",\n",
    "    \"Glenree 110-MV\": \"Donegal\",\n",
    "    \"Rathkeale\": \"Limerick\",\n",
    "    \"Cloghboola\": \"Cork\",\n",
    "    \"BOGGERAGH\": \"Cork\",\n",
    "    \"Corderry T122\": \"Monaghan\",\n",
    "    \"Wexford\": \"Wexford\",\n",
    "    \"Binbane\": \"Donegal\",\n",
    "    \"Letterkenny\": \"Donegal\",\n",
    "    \"Thurles\": \"Tipperary\",\n",
    "    \"Ballylickey\": \"Cork\",\n",
    "    \"Meath Hill\": \"Meath\",\n",
    "    \"Binbane T143\": \"Donegal\",\n",
    "    \"Glenlara T141\": \"Cork\",\n",
    "    \"Meath Hill\": \"Meath\",\n",
    "    \"Corderry T122\": \"Monaghan\",\n",
    "    \"Garrow\": \"Donegal\",\n",
    "    \"Cloghboola\": \"Cork\",\n",
    "    \"Dallow\": \"Cork\",\n",
    "    \"Binbane T143\": \"Donegal\",\n",
    "    \"Trillick\": \"Tyrone\",\n",
    "    \"Crory T121\": \"Wexford\",\n",
    "    \"Thurles\": \"Tipperary\",\n",
    "    \"Knockearagh\": \"Kerry\",\n",
    "    \"SORNE HILL\": \"Donegal\",\n",
    "    \"Ballyragget\": \"Kilkenny\",\n",
    "    \"Binbane T143\": \"Donegal\",\n",
    "    \"Meath Hill\": \"Meath\",\n",
    "    \"Cauteen T141\": \"Tipperary\",\n",
    "    \"Corderry T122\": \"Monaghan\",\n",
    "    \"Oughtragh\": \"Leitrim\",\n",
    "    \"Bandon\": \"Cork\",\n",
    "    \"Ballylickey\": \"Cork\",\n",
    "    \"Castlebar\": \"Mayo\",\n",
    "    \"Ballylickey\": \"Cork\",\n",
    "    \"Waterford\": \"Waterford\",\n",
    "    \"BOOLTIAGH T141\": \"Clare\",\n",
    "    \"Dunmanway\": \"Cork\",\n",
    "    \"Sligo\": \"Sligo\",\n",
    "    \"Corderry T122\": \"Monaghan\",\n",
    "    \"Binbane\": \"Donegal\",\n",
    "    \"Somerset\": \"Galway\",\n",
    "    \"Meath Hill\": \"Meath\",\n",
    "    \"Ardnacrusha\": \"Clare\",\n",
    "    \"Trien\": \"Roscommon\",\n",
    "    \"SORNE HILL\": \"Donegal\",\n",
    "    \"Trillick\": \"Tyrone\",\n",
    "    \"Castlebar\": \"Mayo\",\n",
    "    \"Corderry T122\": \"Monaghan\",\n",
    "    \"Tralee\": \"Kerry\",\n",
    "    \"Wexford\": \"Wexford\",\n",
    "    \"Trien T143\": \"Roscommon\",\n",
    "    \"Bellacorick 110-MV\": \"Mayo\",\n",
    "    \"Sligo\": \"Sligo\",\n",
    "    \"BOOLTIAGH T143\": \"Clare\",\n",
    "    \"Waterford\": \"Waterford\",\n",
    "    \"Binbane T143\": \"Donegal\",\n",
    "    \"Moy\": \"Mayo\",\n",
    "    \"BOGGERAGH\": \"Cork\",\n",
    "    \"Dunmanway\": \"Cork\",\n",
    "    \"Dunmanway\": \"Cork\",\n",
    "    \"Tonroe\": \"Mayo\",\n",
    "    \"BOGGERAGH\": \"Cork\",\n",
    "    \"Tralee\": \"Kerry\",\n",
    "    \"Crory T121\": \"Wexford\",\n",
    "    \"Arigna\": \"Roscommon\",\n",
    "    \"Trillick\": \"Tyrone\",\n",
    "    \"Letterkenny\": \"Donegal\",\n",
    "    \"Rathkeale\": \"Limerick\",\n",
    "    \"Crane\": \"Galway\",\n",
    "    \"Garrow\": \"Donegal\",\n",
    "    \"Dungarvan\": \"Waterford\",\n",
    "    \"Carlow\": \"Carlow\",\n",
    "    \"Ardnagappary\": \"Mayo\",\n",
    "    \"Corderry T121\": \"Monaghan\",\n",
    "    \"Trillick\": \"Tyrone\",\n",
    "    \"Arigna\": \"Roscommon\",\n",
    "    \"Charleville\": \"Cork\",\n",
    "    \"Charleville\": \"Cork\",\n",
    "    \"BOOLTIAGH T143\": \"Clare\",\n",
    "    \"Castlebar\": \"Mayo\",\n",
    "    \"Dunmanway\": \"Cork\",\n",
    "    \"Thurles\": \"Tipperary\",\n",
    "    \"Arigna\": \"Roscommon\",\n",
    "    \"Lanesborough\": \"Longford\",\n",
    "    \"Tullabrack\": \"Clare\",\n",
    "    \"Trien\": \"Roscommon\",\n",
    "    \"Dunmanway\": \"Cork\",\n",
    "    \"Trien\": \"Roscommon\",\n",
    "    \"Carlow\": \"Carlow\",\n",
    "    \"Bandon\": \"Cork\",\n",
    "    \"Meath Hill\": \"Meath\",\n",
    "    \"Knockearagh\": \"Kerry\",\n",
    "    \"Charleville\": \"Cork\",\n",
    "    \"Charleville\": \"Cork\",\n",
    "    \"Ballylickey\": \"Cork\",\n",
    "    \"Trien\": \"Roscommon\",\n",
    "    \"Dunmanway\": \"Cork\",\n",
    "    \"Waterford\": \"Waterford\",\n",
    "    \"SORNE HILL\": \"Donegal\",\n",
    "    \"Dallow\": \"Cork\",\n",
    "    \"Cloon\": \"Mayo\",\n",
    "    \"Dallow\": \"Cork\",\n",
    "    \"SORNE HILL\": \"Donegal\",\n",
    "    \"Crory T121\": \"Wexford\",\n",
    "    \"Crory T121\": \"Wexford\",\n",
    "    \"Trillick\": \"Tyrone\",\n",
    "    \"Corderry T122\": \"Monaghan\",\n",
    "    \"Tralee\": \"Kerry\",\n",
    "    \"Crory T121\": \"Wexford\",\n",
    "    \"NENAGH\": \"Tipperary\",\n",
    "    \"Cordal\": \"Kerry\",\n",
    "    \"Tonroe\": \"Mayo\",\n",
    "    \"Binbane T143\": \"Donegal\",\n",
    "    \"Crory T121\": \"Wexford\",\n",
    "    \"Corderry T121\": \"Monaghan\",\n",
    "    \"Corderry T121\": \"Monaghan\",\n",
    "    \"Letterkenny\": \"Donegal\",\n",
    "    \"Cathaleens Fall\": \"Donegal\",\n",
    "    \"Ikerrin\": \"Tipperary\",\n",
    "    \"Castlebar\": \"Mayo\",\n",
    "    \"Gortawee\": \"Cavan\",\n",
    "    \"Tipperary\": \"Tipperary\",\n",
    "    \"Shankill\": \"Dublin\",\n",
    "    \"Screeb\": \"Galway\",\n",
    "    \"Cauteen T141\": \"Tipperary\",\n",
    "    \"Glenree\": \"Donegal\",\n",
    "    \"Screeb\": \"Galway\",\n",
    "    \"Meath Hill\": \"Meath\",\n",
    "    \"Binbane\": \"Donegal\",\n",
    "    \"Letterkenny\": \"Donegal\",\n",
    "    \"Dallow\": \"Cork\",\n",
    "    \"NENAGH\": \"Tipperary\",\n",
    "    \"Carlow\": \"Carlow\",\n",
    "    \"NENAGH\": \"Tipperary\",\n",
    "    \"Dalton\": \"Tipperary\",\n",
    "    \"Bellacorick\": \"Mayo\",\n",
    "    \"Trien\": \"Roscommon\",\n",
    "    \"NENAGH\": \"Tipperary\",\n",
    "    \"Binbane\": \"Donegal\",\n",
    "    \"Barnahely 110-MV\": \"Cork\",\n",
    "    \"Crane\": \"Galway\",\n",
    "    \"Tonroe\": \"Mayo\",\n",
    "    \"Letterkenny\": \"Donegal\",\n",
    "    \"NENAGH\": \"Tipperary\",\n",
    "    \"SORNE HILL\": \"Donegal\",\n",
    "    \"Drybridge\": \"Wexford\",\n",
    "    \"Thurles\": \"Tipperary\",\n",
    "    \"SORNE HILL\": \"Donegal\",\n",
    "    \"Barnahely 110-MV\": \"Cork\",\n",
    "    \"Cathaleens Fall\": \"Donegal\",\n",
    "    \"Drybridge\": \"Wexford\",\n",
    "    \"Reamore T142\": \"Kerry\",\n",
    "    \"Drybridge\": \"Wexford\",\n",
    "    \"Carlow\": \"Carlow\",\n",
    "    \"BUTLERSTOWN\": \"Waterford\",\n",
    "    \"Tralee\": \"Kerry\",\n",
    "    \"Midleton\": \"Cork\",\n",
    "    \"Trien\": \"Roscommon\",\n",
    "    \"Tipperary\": \"Tipperary\",\n",
    "    \"Shankill\": \"Dublin\",\n",
    "    \"Corderry T122\": \"Monaghan\",\n",
    "    \"Castlebar\": \"Mayo\",\n",
    "    \"Ballylickey\": \"Cork\",\n",
    "    \"Shankill\": \"Dublin\",\n",
    "    \"SORNE HILL\": \"Donegal\",\n",
    "    \"Trien\": \"Roscommon\",\n",
    "    \"Cauteen T141\": \"Tipperary\",\n",
    "    \"Kilbarry\": \"Waterford\",\n",
    "    \"Drybridge\": \"Wexford\",\n",
    "    \"Screeb\": \"Galway\",\n",
    "    \"ARDNAGAPPARY\": \"Mayo\",\n",
    "    \"Ardnacrusha\": \"Clare\",\n",
    "    \"Crory T121\": \"Wexford\",\n",
    "    \"SORNE HILL\": \"Donegal\",\n",
    "    \"Carlow\": \"Carlow\",\n",
    "    \"Glasmore\": \"Dublin\",\n",
    "    \"Dundalk\": \"Louth\",\n",
    "    \"Cathaleens Fall\": \"Donegal\",\n",
    "    \"SORNE HILL\": \"Donegal\",\n",
    "    \"Waterford\": \"Waterford\",\n",
    "    \"Carlow\": \"Carlow\",\n",
    "    \"Carlow\": \"Carlow\",\n",
    "    \"Thurles\": \"Tipperary\",\n",
    "    \"Trien\": \"Roscommon\",\n",
    "    \"Glasmore\": \"Dublin\",\n",
    "    \"Bandon 110-MV\": \"Cork\",\n",
    "    \"Cahir\": \"Tipperary\",\n",
    "    \"Dungarvan\": \"Waterford\",\n",
    "    \"Sorne Hill\": \"Donegal\",\n",
    "    \"SORNE HILL\": \"Donegal\",\n",
    "    \"Drybridge\": \"Wexford\",\n",
    "    \"Corderry T122\": \"Monaghan\",\n",
    "    \"Grange (DR)\": \"Sligo\",\n",
    "    \"Ardnacrusha\": \"Clare\",\n",
    "    \"Crane\": \"Galway\",\n",
    "    \"Drybridge\": \"Wexford\",\n",
    "    \"Drybridge\": \"Wexford\",\n",
    "    \"Dungarvan\": \"Waterford\",\n",
    "    \"Carlow\": \"Carlow\",\n",
    "    \"Cahir\": \"Tipperary\",\n",
    "    \"Stratford\": \"Wicklow\",\n",
    "    \"Binbane\": \"Donegal\",\n",
    "    \"ATHLONE\": \"Westmeath\",\n",
    "    \"WEXFORD\": \"Wexford\",\n",
    "    \"COOKSTOWN\": \"Tyrone\",\n",
    "    \"Cathaleens Fall\": \"Donegal\",\n",
    "    \"Griffinrath\": \"Kildare\",\n",
    "    \"Shankill\": \"Dublin\",\n",
    "    \"Bellacorick\": \"Mayo\",\n",
    "    \"Shankill\": \"Dublin\",\n",
    "    \"Meath Hill\": \"Meath\",\n",
    "    \"CAHIR\": \"Tipperary\",\n",
    "}\n"
   ]
  },
  {
   "cell_type": "code",
   "execution_count": 20,
   "id": "a5ccef96",
   "metadata": {},
   "outputs": [],
   "source": [
    "# === 6️⃣ Map to County ===\n",
    "df_clean['County'] = df_clean['Station'].map(station_to_county)"
   ]
  },
  {
   "cell_type": "code",
   "execution_count": 21,
   "id": "f1449fe9",
   "metadata": {},
   "outputs": [
    {
     "name": "stdout",
     "output_type": "stream",
     "text": [
      "⚠️ Unmapped stations found:\n",
      " ['CORDERRY T122' 'CRANE' nan]\n"
     ]
    }
   ],
   "source": [
    "# === 7️⃣ Drop rows without valid County (unmapped stations)\n",
    "missing_county = df_clean[df_clean['County'].isna()]\n",
    "if not missing_county.empty:\n",
    "    print(\"⚠️ Unmapped stations found:\\n\", missing_county['Station'].unique())"
   ]
  },
  {
   "cell_type": "code",
   "execution_count": 22,
   "id": "e35cc7a9",
   "metadata": {},
   "outputs": [],
   "source": [
    "df_clean = df_clean.dropna(subset=['County'])"
   ]
  },
  {
   "cell_type": "code",
   "execution_count": 23,
   "id": "ae4868fd",
   "metadata": {},
   "outputs": [],
   "source": [
    "# === 8️⃣ Drop Station column — not needed after mapping\n",
    "df_clean = df_clean[['Project', 'Type', 'Installed_MW', 'Connection_Date', 'County', 'Connection_Type']]"
   ]
  },
  {
   "cell_type": "code",
   "execution_count": 24,
   "id": "3d091bdf",
   "metadata": {},
   "outputs": [],
   "source": [
    "# === 9️⃣ Save cleaned file ===\n",
    "df_clean.to_csv(output_file, index=False)"
   ]
  },
  {
   "cell_type": "code",
   "execution_count": 25,
   "id": "7e36c70e",
   "metadata": {},
   "outputs": [
    {
     "name": "stdout",
     "output_type": "stream",
     "text": [
      "✅ Cleaned DSO Wind capacity saved to: ../data/processed/DSO_Wind_Capacity_Clean.csv\n"
     ]
    }
   ],
   "source": [
    "print(f\"✅ Cleaned DSO Wind capacity saved to: {output_file}\")"
   ]
  },
  {
   "cell_type": "markdown",
   "id": "f3bcd1c4",
   "metadata": {},
   "source": [
    "TSO Solar Cleaning Code"
   ]
  },
  {
   "cell_type": "code",
   "execution_count": 3,
   "id": "f6717f27",
   "metadata": {},
   "outputs": [],
   "source": [
    "import pandas as pd"
   ]
  },
  {
   "cell_type": "code",
   "execution_count": 4,
   "id": "9d04cba0",
   "metadata": {},
   "outputs": [],
   "source": [
    "# === 1️⃣ File paths ===\n",
    "raw_file = '../data/raw/Transmission_Connected_Solar_Ge_in_ireland.xlsx'\n",
    "output_file = '../data/processed/TSO_Solar_Capacity_Clean.csv'\n"
   ]
  },
  {
   "cell_type": "code",
   "execution_count": 5,
   "id": "5b73ee61",
   "metadata": {},
   "outputs": [],
   "source": [
    "# === 2️⃣ Load Excel ===\n",
    "xls = pd.ExcelFile(raw_file)\n",
    "sheet_names = xls.sheet_names\n",
    "df = pd.read_excel(xls, sheet_name=sheet_names[0])"
   ]
  },
  {
   "cell_type": "code",
   "execution_count": 6,
   "id": "036ba665",
   "metadata": {},
   "outputs": [],
   "source": [
    "# === 3️⃣ Rename & select ===\n",
    "df_clean = df.rename(columns={\n",
    "    'Generator': 'Project',\n",
    "    'Type': 'Type',\n",
    "    'Installed \\nCapacity \\n(MW)': 'Installed_MW',\n",
    "    'Full / Latest Connection\\nDate': 'Connection_Date',\n",
    "    'County': 'County'\n",
    "})"
   ]
  },
  {
   "cell_type": "code",
   "execution_count": 7,
   "id": "bc407eeb",
   "metadata": {},
   "outputs": [],
   "source": [
    "df_clean = df_clean[['Project', 'Type', 'Installed_MW', 'Connection_Date', 'County']]"
   ]
  },
  {
   "cell_type": "code",
   "execution_count": 8,
   "id": "2755a2a6",
   "metadata": {},
   "outputs": [],
   "source": [
    "# === 4️⃣ Add Category & Connection_Type ===\n",
    "df_clean['Category'] = 'Onshore'\n",
    "df_clean['Connection_Type'] = 'TSO'"
   ]
  },
  {
   "cell_type": "code",
   "execution_count": 9,
   "id": "44162bab",
   "metadata": {},
   "outputs": [],
   "source": [
    "# === 5️⃣ Drop rows with missing Installed_MW or County (if any)\n",
    "df_clean = df_clean.dropna(subset=['Installed_MW', 'County'])"
   ]
  },
  {
   "cell_type": "code",
   "execution_count": 10,
   "id": "1768c763",
   "metadata": {},
   "outputs": [
    {
     "name": "stdout",
     "output_type": "stream",
     "text": [
      "✅ TSO Solar cleaned capacity saved to: ../data/processed/TSO_Solar_Capacity_Clean.csv\n"
     ]
    }
   ],
   "source": [
    "# === 6️⃣ Save cleaned CSV ===\n",
    "df_clean.to_csv(output_file, index=False)\n",
    "\n",
    "print(f\"✅ TSO Solar cleaned capacity saved to: {output_file}\")"
   ]
  },
  {
   "cell_type": "markdown",
   "id": "303df0cf",
   "metadata": {},
   "source": [
    "DSO Solar Cleaning + Mapping Code"
   ]
  },
  {
   "cell_type": "code",
   "execution_count": 37,
   "id": "65ebf498",
   "metadata": {},
   "outputs": [],
   "source": [
    "import pandas as pd\n",
    "\n",
    "# === 1️⃣ File paths ===\n",
    "raw_file = '../data/raw/Distribution_Connected_Solar_Ge_in_Ireland.xlsx'\n",
    "output_file = '../data/processed/DSO_Solar_Capacity_Clean.csv'"
   ]
  },
  {
   "cell_type": "code",
   "execution_count": 38,
   "id": "fcdc049b",
   "metadata": {},
   "outputs": [],
   "source": [
    "# === 2️⃣ Load Excel ===\n",
    "xls = pd.ExcelFile(raw_file)\n",
    "sheet_names = xls.sheet_names\n",
    "df = pd.read_excel(xls, sheet_name=sheet_names[0])"
   ]
  },
  {
   "cell_type": "code",
   "execution_count": 39,
   "id": "0a8ca685",
   "metadata": {},
   "outputs": [],
   "source": [
    "# === 3️⃣ Rename & select relevant columns ===\n",
    "df_clean = df.rename(columns={\n",
    "    'Project': 'Project',\n",
    "    'Type': 'Type',\n",
    "    'MEC (MW)': 'Installed_MW',\n",
    "    'Connection Date': 'Connection_Date',\n",
    "    'Feeding 110kV Station': 'Station',\n",
    "    'Status': 'Status'\n",
    "})"
   ]
  },
  {
   "cell_type": "code",
   "execution_count": 40,
   "id": "aaddcf0e",
   "metadata": {},
   "outputs": [],
   "source": [
    "df_clean = df_clean[['Project', 'Type', 'Installed_MW', 'Connection_Date', 'Station', 'Status']]"
   ]
  },
  {
   "cell_type": "code",
   "execution_count": 41,
   "id": "ccd11a92",
   "metadata": {},
   "outputs": [],
   "source": [
    "# === 4️⃣ Keep only Energised projects ===\n",
    "df_clean = df_clean[df_clean['Status'] == 'Energised']"
   ]
  },
  {
   "cell_type": "code",
   "execution_count": 42,
   "id": "0c9c43a2",
   "metadata": {},
   "outputs": [],
   "source": [
    "# === 5️⃣ Drop the Status column now that it's filtered ===\n",
    "df_clean = df_clean.drop(columns=['Status'])"
   ]
  },
  {
   "cell_type": "code",
   "execution_count": 43,
   "id": "dfda28d3",
   "metadata": {},
   "outputs": [],
   "source": [
    "# === 6️⃣ Manual station → county mapping ===\n",
    "station_to_county = {\n",
    "    \"Dunfirth\": \"Meath\",\n",
    "    \"BALTRASNA\": \"Meath\",\n",
    "    \"Crane 110-MV\": \"Galway\",\n",
    "    \"Ballybeg\": \"Wexford\",\n",
    "    \"Wexford\": \"Wexford\",\n",
    "    \"Great Island\": \"Wexford\",\n",
    "    \"Kilbarry\": \"Waterford\",\n",
    "    \"Wexford\": \"Wexford\",\n",
    "    \"BANOGE\": \"Offaly\",\n",
    "    \"Macroom\": \"Cork\",\n",
    "    \"Waterford\": \"Waterford\",\n",
    "    \"Midleton\": \"Cork\",\n",
    "    \"Navan\": \"Meath\",\n",
    "    \"Midleton\": \"Cork\",\n",
    "    \"Dalton\": \"Tipperary\",\n",
    "    \"Cahir\": \"Tipperary\",\n",
    "    \"Ikerrin\": \"Tipperary\",\n",
    "    \"Thurles\": \"Tipperary\",\n",
    "    \"BARRYMORE\": \"Cork\",\n",
    "    \"Castleview\": \"Cork\",\n",
    "    \"LIMERICK\": \"Limerick\",\n",
    "    \"DOON\": \"Limerick\",\n",
    "    \"Dundalk\": \"Louth\",\n",
    "    \"Thornsberry\": \"Offaly\",\n",
    "    \"Shankill\": \"Dublin\",\n",
    "    \"Trabeg\": \"Kerry\",\n",
    "    \"Glenlara\": \"Cork\",\n",
    "    \"Kilbarry\": \"Waterford\",\n",
    "    \"BALTRASNA\": \"Meath\",\n",
    "    \"Galway 110kV\": \"Galway\",\n",
    "    \"Dundalk\": \"Louth\",\n",
    "    \"Mallow 110kV\": \"Cork\",\n",
    "    \"Drybridge\": \"Wexford\",\n",
    "    \"Cahir 110kV\": \"Tipperary\",\n",
    "    \"Kilkenny 110kV/38kV\": \"Kilkenny\",\n",
    "    \"Banoge 110kV\": \"Offaly\"\n",
    "}"
   ]
  },
  {
   "cell_type": "code",
   "execution_count": 44,
   "id": "0c33128a",
   "metadata": {},
   "outputs": [],
   "source": [
    "# === 7️⃣ Map to County ===\n",
    "df_clean['County'] = df_clean['Station'].map(station_to_county)"
   ]
  },
  {
   "cell_type": "code",
   "execution_count": 45,
   "id": "4005679f",
   "metadata": {},
   "outputs": [],
   "source": [
    "# === 8️⃣ Drop rows with no valid County\n",
    "df_clean = df_clean.dropna(subset=['County'])"
   ]
  },
  {
   "cell_type": "code",
   "execution_count": 46,
   "id": "3f611c4d",
   "metadata": {},
   "outputs": [],
   "source": [
    "# === 9️⃣ Add Category & Connection_Type\n",
    "df_clean['Category'] = 'Onshore'\n",
    "df_clean['Connection_Type'] = 'DSO'"
   ]
  },
  {
   "cell_type": "code",
   "execution_count": 47,
   "id": "34f80174",
   "metadata": {},
   "outputs": [],
   "source": [
    "# === 🔟 Final columns order\n",
    "df_clean = df_clean[['Project', 'Type', 'Category', 'Installed_MW', 'Connection_Date', 'County', 'Connection_Type']]"
   ]
  },
  {
   "cell_type": "code",
   "execution_count": 48,
   "id": "8ed0b602",
   "metadata": {},
   "outputs": [
    {
     "name": "stdout",
     "output_type": "stream",
     "text": [
      "✅ DSO Solar cleaned capacity saved to: ../data/processed/DSO_Solar_Capacity_Clean.csv\n"
     ]
    }
   ],
   "source": [
    "# === ✅ Save to processed folder\n",
    "df_clean.to_csv(output_file, index=False)\n",
    "\n",
    "print(f\"✅ DSO Solar cleaned capacity saved to: {output_file}\")"
   ]
  }
 ],
 "metadata": {
  "kernelspec": {
   "display_name": "base",
   "language": "python",
   "name": "python3"
  },
  "language_info": {
   "codemirror_mode": {
    "name": "ipython",
    "version": 3
   },
   "file_extension": ".py",
   "mimetype": "text/x-python",
   "name": "python",
   "nbconvert_exporter": "python",
   "pygments_lexer": "ipython3",
   "version": "3.12.3"
  }
 },
 "nbformat": 4,
 "nbformat_minor": 5
}
