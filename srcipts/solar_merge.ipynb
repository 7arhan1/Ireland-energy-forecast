{
 "cells": [
  {
   "cell_type": "markdown",
   "id": "dc0d70ae",
   "metadata": {},
   "source": [
    "Final Solar Merge + Zone Code"
   ]
  },
  {
   "cell_type": "code",
   "execution_count": 9,
   "id": "cb8d56f5",
   "metadata": {},
   "outputs": [],
   "source": [
    "import pandas as pd\n",
    "\n",
    "# === 1️⃣ File paths ===\n",
    "tso_file = '../data/processed/TSO_Solar_Capacity_Clean.csv'\n",
    "dso_file = '../data/processed/DSO_Solar_Capacity_Clean.csv'\n",
    "merged_output = '../data/processed/Solar_Capacity_Master.csv'\n",
    "regional_output = '../data/processed/Regional_Solar_Capacity.csv'"
   ]
  },
  {
   "cell_type": "code",
   "execution_count": 10,
   "id": "26f677c9",
   "metadata": {},
   "outputs": [],
   "source": [
    "# === 2️⃣ Load both cleaned CSVs ===\n",
    "df_tso = pd.read_csv(tso_file)\n",
    "df_dso = pd.read_csv(dso_file)"
   ]
  },
  {
   "cell_type": "code",
   "execution_count": 11,
   "id": "334e8b3a",
   "metadata": {},
   "outputs": [],
   "source": [
    "# === 3️⃣ Merge them ===\n",
    "df_merged = pd.concat([df_tso, df_dso], ignore_index=True)"
   ]
  },
  {
   "cell_type": "code",
   "execution_count": 12,
   "id": "c90ffde2",
   "metadata": {},
   "outputs": [],
   "source": [
    "# === 4️⃣ Define Republic-only zones ===\n",
    "\n",
    "east_counties = [\n",
    "    \"Dublin\", \"Meath\", \"Louth\", \"Offaly\", \"Wexford\", \"Waterford\",\n",
    "    \"Kilkenny\", \"Tipperary\", \"Kildare\"\n",
    "]\n",
    "\n",
    "west_counties = [\n",
    "    \"Galway\"\n",
    "]\n",
    "\n",
    "north_counties = [\n",
    "    # None — all Republic-only stations are East, West, or South\n",
    "]\n",
    "\n",
    "south_counties = [\n",
    "    \"Cork\", \"Kerry\", \"Limerick\"\n",
    "]\n",
    "\n",
    "# NI counties to skip for final Regional table\n",
    "ni_counties = [\"Derry\", \"Tyrone\", \"Antrim\", \"Down\", \"Armagh\", \"Fermanagh\"]"
   ]
  },
  {
   "cell_type": "code",
   "execution_count": 13,
   "id": "db9e2be1",
   "metadata": {},
   "outputs": [],
   "source": [
    "# === 5️⃣ Map County → Zone ===\n",
    "def county_to_zone(county):\n",
    "    if county in ni_counties:\n",
    "        return 'NI'\n",
    "    elif county in east_counties:\n",
    "        return 'East'\n",
    "    elif county in west_counties:\n",
    "        return 'West'\n",
    "    elif county in north_counties:\n",
    "        return 'North'\n",
    "    elif county in south_counties:\n",
    "        return 'South'\n",
    "    else:\n",
    "        return 'Other'"
   ]
  },
  {
   "cell_type": "code",
   "execution_count": 14,
   "id": "2439746d",
   "metadata": {},
   "outputs": [],
   "source": [
    "df_merged['Zone'] = df_merged['County'].apply(county_to_zone)"
   ]
  },
  {
   "cell_type": "code",
   "execution_count": 15,
   "id": "2ceaf967",
   "metadata": {},
   "outputs": [
    {
     "name": "stdout",
     "output_type": "stream",
     "text": [
      "\n",
      "✅ Solar Counties mapped as 'Other':\n",
      "[]\n"
     ]
    }
   ],
   "source": [
    "# === 6️⃣ Print unmapped\n",
    "print(\"\\n✅ Solar Counties mapped as 'Other':\")\n",
    "print(df_merged[df_merged['Zone'] == 'Other']['County'].unique())"
   ]
  },
  {
   "cell_type": "code",
   "execution_count": 16,
   "id": "5aa819db",
   "metadata": {},
   "outputs": [
    {
     "name": "stdout",
     "output_type": "stream",
     "text": [
      "✅ Solar capacity master saved to: ../data/processed/Solar_Capacity_Master.csv\n"
     ]
    }
   ],
   "source": [
    "# === 7️⃣ Save full Solar merged block (keeps NI + Other)\n",
    "df_merged.to_csv(merged_output, index=False)\n",
    "print(f\"✅ Solar capacity master saved to: {merged_output}\")"
   ]
  },
  {
   "cell_type": "code",
   "execution_count": 17,
   "id": "af5a9f01",
   "metadata": {},
   "outputs": [],
   "source": [
    "# === 8️⃣ Filter out NI for final regional sum\n",
    "df_regional = df_merged[df_merged['Zone'] != 'NI']"
   ]
  },
  {
   "cell_type": "code",
   "execution_count": 18,
   "id": "7aee3838",
   "metadata": {},
   "outputs": [],
   "source": [
    "# === 9️⃣ Group by Zone, Type, Connection_Type & sum\n",
    "df_regional = (\n",
    "    df_regional.groupby(['Zone', 'Type', 'Connection_Type'])\n",
    "    .agg({'Installed_MW': 'sum'})\n",
    "    .reset_index()\n",
    ")"
   ]
  },
  {
   "cell_type": "code",
   "execution_count": 19,
   "id": "c4c82531",
   "metadata": {},
   "outputs": [
    {
     "name": "stdout",
     "output_type": "stream",
     "text": [
      "✅ Regional solar capacity saved to: ../data/processed/Regional_Solar_Capacity.csv\n"
     ]
    }
   ],
   "source": [
    "# === 🔟 Save regional grouped Solar\n",
    "df_regional.to_csv(regional_output, index=False)\n",
    "print(f\"✅ Regional solar capacity saved to: {regional_output}\")"
   ]
  }
 ],
 "metadata": {
  "kernelspec": {
   "display_name": "base",
   "language": "python",
   "name": "python3"
  },
  "language_info": {
   "codemirror_mode": {
    "name": "ipython",
    "version": 3
   },
   "file_extension": ".py",
   "mimetype": "text/x-python",
   "name": "python",
   "nbconvert_exporter": "python",
   "pygments_lexer": "ipython3",
   "version": "3.12.3"
  }
 },
 "nbformat": 4,
 "nbformat_minor": 5
}
