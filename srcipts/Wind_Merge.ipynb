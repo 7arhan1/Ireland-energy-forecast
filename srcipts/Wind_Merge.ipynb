{
 "cells": [
  {
   "cell_type": "markdown",
   "id": "a6172510",
   "metadata": {},
   "source": [
    "Merge your TSO + DSO Wind capacity files\n",
    "Add Zone mapping (East / West)\n",
    "Group & sum by Zone, Type, Connection_Type\n",
    "Save both the merged raw file & the grouped zone table"
   ]
  },
  {
   "cell_type": "code",
   "execution_count": 21,
   "id": "7d5be083",
   "metadata": {},
   "outputs": [],
   "source": [
    "import pandas as pd"
   ]
  },
  {
   "cell_type": "code",
   "execution_count": 48,
   "id": "72a2f809",
   "metadata": {},
   "outputs": [],
   "source": [
    "# === 1️⃣ File paths ===\n",
    "tso_file = '../data/processed/TSO_Wind_Capacity_Clean.csv'\n",
    "dso_file = '../data/processed/DSO_Wind_Capacity_Clean.csv'\n",
    "merged_output = '../data/processed/Wind_Capacity_Master.csv'\n",
    "regional_output = '../data/processed/Regional_Wind_Capacity.csv'"
   ]
  },
  {
   "cell_type": "code",
   "execution_count": 23,
   "id": "8db7069d",
   "metadata": {},
   "outputs": [],
   "source": [
    "# === 2️⃣ Load TSO & DSO ===\n",
    "df_tso = pd.read_csv(tso_file)\n",
    "df_dso = pd.read_csv(dso_file)"
   ]
  },
  {
   "cell_type": "code",
   "execution_count": 32,
   "id": "d1f727dd",
   "metadata": {},
   "outputs": [],
   "source": [
    "# === 3️⃣ If DSO doesn't have Category, add it ===\n",
    "if 'Category' not in df_dso.columns:\n",
    "    df_dso['Category'] = 'Onshore'"
   ]
  },
  {
   "cell_type": "code",
   "execution_count": 33,
   "id": "30b23c0f",
   "metadata": {},
   "outputs": [],
   "source": [
    "# === 4️⃣ Merge both ===\n",
    "df_merged = pd.concat([df_tso, df_dso], ignore_index=True)"
   ]
  },
  {
   "cell_type": "code",
   "execution_count": 39,
   "id": "6e9638a3",
   "metadata": {},
   "outputs": [],
   "source": [
    "# === 5️⃣ Define Republic-only zones ===\n",
    "east_counties = [\n",
    "    \"Dublin\", \"Meath\", \"Wicklow\", \"Louth\", \"Kildare\", \"Offaly\",\n",
    "    \"Laois\", \"Carlow\", \"Wexford\", \"Kilkenny\", \"Longford\", \"Westmeath\"\n",
    "]\n",
    "\n",
    "west_counties = [\n",
    "    \"Galway\", \"Mayo\", \"Clare\", \"Sligo\", \"Leitrim\", \"Roscommon\"\n",
    "]\n",
    "\n",
    "north_counties = [\n",
    "    \"Donegal\", \"Cavan\", \"Monaghan\"\n",
    "    # Derry, Tyrone removed — those will be filtered as NI below\n",
    "]\n",
    "\n",
    "south_counties = [\n",
    "    \"Cork\", \"Kerry\", \"Waterford\", \"Tipperary\", \"Limerick\"\n",
    "]"
   ]
  },
  {
   "cell_type": "code",
   "execution_count": 40,
   "id": "bd695c5f",
   "metadata": {},
   "outputs": [],
   "source": [
    "# === 6️⃣ NI counties to filter out ===\n",
    "ni_counties = [\"Derry\", \"Tyrone\", \"Antrim\", \"Down\", \"Armagh\", \"Fermanagh\"]"
   ]
  },
  {
   "cell_type": "code",
   "execution_count": 41,
   "id": "9e52204f",
   "metadata": {},
   "outputs": [],
   "source": [
    "# === 7️⃣ Map County → Zone ===\n",
    "def county_to_zone(county):\n",
    "    if county in ni_counties:\n",
    "        return 'NI'\n",
    "    elif county in east_counties:\n",
    "        return 'East'\n",
    "    elif county in west_counties:\n",
    "        return 'West'\n",
    "    elif county in north_counties:\n",
    "        return 'North'\n",
    "    elif county in south_counties:\n",
    "        return 'South'\n",
    "    else:\n",
    "        return 'Other'\n"
   ]
  },
  {
   "cell_type": "code",
   "execution_count": 42,
   "id": "218dc8cd",
   "metadata": {},
   "outputs": [],
   "source": [
    "df_merged['Zone'] = df_merged['County'].apply(county_to_zone)"
   ]
  },
  {
   "cell_type": "code",
   "execution_count": 43,
   "id": "3919c50c",
   "metadata": {},
   "outputs": [
    {
     "name": "stdout",
     "output_type": "stream",
     "text": [
      "\n",
      "✅ Counties mapped as 'Other':\n",
      "[]\n"
     ]
    }
   ],
   "source": [
    "# === 8️⃣ Inspect any that ended up \"Other\" for QC\n",
    "print(\"\\n✅ Counties mapped as 'Other':\")\n",
    "print(df_merged[df_merged['Zone'] == 'Other']['County'].unique())"
   ]
  },
  {
   "cell_type": "code",
   "execution_count": 44,
   "id": "66f9a77f",
   "metadata": {},
   "outputs": [
    {
     "name": "stdout",
     "output_type": "stream",
     "text": [
      "✅ Wind capacity master saved to: ../data/processed/Wind_Capacity_Master.csv\n"
     ]
    }
   ],
   "source": [
    "# === 9️⃣ Save full Wind merged block (keeps NI + Other for traceability)\n",
    "df_merged.to_csv(merged_output, index=False)\n",
    "print(f\"✅ Wind capacity master saved to: {merged_output}\")"
   ]
  },
  {
   "cell_type": "code",
   "execution_count": 45,
   "id": "167a766d",
   "metadata": {},
   "outputs": [],
   "source": [
    "# === 🔟 Filter out NI rows for regional grouping\n",
    "df_regional = df_merged[df_merged['Zone'] != 'NI']"
   ]
  },
  {
   "cell_type": "code",
   "execution_count": 46,
   "id": "3f5b4ae1",
   "metadata": {},
   "outputs": [],
   "source": [
    "# === 1️⃣1️⃣ Group by Zone, Type, Connection_Type & sum Installed MW\n",
    "df_regional = (\n",
    "    df_regional.groupby(['Zone', 'Type', 'Connection_Type'])\n",
    "    .agg({'Installed_MW': 'sum'})\n",
    "    .reset_index()\n",
    ")"
   ]
  },
  {
   "cell_type": "code",
   "execution_count": 47,
   "id": "6066a918",
   "metadata": {},
   "outputs": [
    {
     "name": "stdout",
     "output_type": "stream",
     "text": [
      "✅ Regional wind capacity saved to: ../data/processed/Regional_Wind_Capacity.csv\n"
     ]
    }
   ],
   "source": [
    "# === 1️⃣2️⃣ Save Regional Wind Capacity table\n",
    "df_regional.to_csv(regional_output, index=False)\n",
    "print(f\"✅ Regional wind capacity saved to: {regional_output}\")\n"
   ]
  }
 ],
 "metadata": {
  "kernelspec": {
   "display_name": "base",
   "language": "python",
   "name": "python3"
  },
  "language_info": {
   "codemirror_mode": {
    "name": "ipython",
    "version": 3
   },
   "file_extension": ".py",
   "mimetype": "text/x-python",
   "name": "python",
   "nbconvert_exporter": "python",
   "pygments_lexer": "ipython3",
   "version": "3.12.3"
  }
 },
 "nbformat": 4,
 "nbformat_minor": 5
}
