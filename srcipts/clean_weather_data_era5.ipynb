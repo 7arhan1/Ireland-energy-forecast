{
 "cells": [
  {
   "cell_type": "markdown",
   "id": "d1f8a460",
   "metadata": {},
   "source": [
    "Extract & Clean ERA5 Wind, Temp, and Cloud Data\n",
    "This script extracts ERA5 variables:\n",
    "\n",
    "u10, v10 → calculates wind speed\n",
    "t2m → air temperature at 2m (converted to °C)\n",
    "tcc → cloud cover (0 to 1)\n",
    "\n",
    "It averages these over Ireland’s grid points and exports a model-ready .csv file."
   ]
  },
  {
   "cell_type": "code",
   "execution_count": 1,
   "id": "f0c13d8b",
   "metadata": {},
   "outputs": [],
   "source": [
    "import xarray as xr\n",
    "import pandas as pd\n",
    "import numpy as np\n",
    "import os"
   ]
  },
  {
   "cell_type": "markdown",
   "id": "1d2d792d",
   "metadata": {},
   "source": [
    "Cleans ERA5 weather data for Ireland:\n",
    "- Calculates wind speed from u10 and v10\n",
    "- Converts temperature from Kelvin to Celsius\n",
    "- Averages each variable over all grid points\n",
    "- Exports to a clean CSV file"
   ]
  },
  {
   "cell_type": "code",
   "execution_count": 2,
   "id": "420926af",
   "metadata": {},
   "outputs": [],
   "source": [
    "def clean_weather_data(input_path, output_path):\n",
    "\n",
    "    # Load the NetCDF dataset\n",
    "    ds = xr.open_dataset(input_path)\n",
    "\n",
    "    # Calculate wind speed\n",
    "    wind_speed = np.sqrt(ds[\"u10\"]**2 + ds[\"v10\"]**2)\n",
    "\n",
    "    # Average over all spatial grid points (Ireland)\n",
    "    df = xr.Dataset({\n",
    "        \"Wind_Speed_10m\": wind_speed.mean(dim=[\"latitude\", \"longitude\"]),\n",
    "        \"Temperature_Celsius\": (ds[\"t2m\"] - 273.15).mean(dim=[\"latitude\", \"longitude\"]),\n",
    "        \"Cloud_Cover\": ds[\"tcc\"].mean(dim=[\"latitude\", \"longitude\"])\n",
    "    }).to_dataframe().reset_index()\n",
    "\n",
    "    # Rename and format\n",
    "    df.rename(columns={\"valid_time\": \"Date\"}, inplace=True)\n",
    "    df.sort_values(\"Date\", inplace=True)\n",
    "    df.reset_index(drop=True, inplace=True)\n",
    "\n",
    "    # Save to processed CSV\n",
    "    os.makedirs(os.path.dirname(output_path), exist_ok=True)\n",
    "    df.to_csv(output_path, index=False)\n",
    "    print(f\"✅ Cleaned ERA5 weather data saved to: {output_path}\")\n",
    "\n",
    "    return df\n"
   ]
  },
  {
   "cell_type": "code",
   "execution_count": 3,
   "id": "aac7a1db",
   "metadata": {},
   "outputs": [
    {
     "name": "stdout",
     "output_type": "stream",
     "text": [
      "✅ Cleaned ERA5 weather data saved to: ../data/processed/Cleaned_Weather_Data_ERA5.csv\n"
     ]
    }
   ],
   "source": [
    "if __name__ == \"__main__\":\n",
    "    input_file = \"../data/raw/data_stream-moda_stepType-avgua.nc\"\n",
    "    output_file = \"../data/processed/Cleaned_Weather_Data_ERA5.csv\"\n",
    "    clean_weather_data(input_file, output_file)"
   ]
  }
 ],
 "metadata": {
  "kernelspec": {
   "display_name": "base",
   "language": "python",
   "name": "python3"
  },
  "language_info": {
   "codemirror_mode": {
    "name": "ipython",
    "version": 3
   },
   "file_extension": ".py",
   "mimetype": "text/x-python",
   "name": "python",
   "nbconvert_exporter": "python",
   "pygments_lexer": "ipython3",
   "version": "3.12.3"
  }
 },
 "nbformat": 4,
 "nbformat_minor": 5
}
