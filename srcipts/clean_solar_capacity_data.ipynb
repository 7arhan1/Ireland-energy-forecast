{
 "cells": [
  {
   "cell_type": "markdown",
   "id": "30127cfa",
   "metadata": {},
   "source": [
    "This script takes the Republic of Ireland's annual solar PV capacity data (2008–2023), checks for consistency, interpolates it into monthly values, and prepares it for modeling by saving a clean CSV file."
   ]
  },
  {
   "cell_type": "code",
   "execution_count": 2,
   "id": "b97f1423",
   "metadata": {},
   "outputs": [],
   "source": [
    "#To load and manipulate data\n",
    "import pandas as pd\n",
    "#To handle safe saving of output files\n",
    "import os"
   ]
  },
  {
   "cell_type": "markdown",
   "id": "db46e47a",
   "metadata": {},
   "source": [
    "Cleans and converts annual solar capacity data into monthly values:\n",
    "Checks types and missing values\n",
    "Interpolates each annual value into 12 monthly entries\n",
    "Creates a proper datetime column (YYYY-MM-01)\n",
    "Saves to processed folder"
   ]
  },
  {
   "cell_type": "code",
   "execution_count": 3,
   "id": "d4311677",
   "metadata": {},
   "outputs": [],
   "source": [
    "def clean_solar_capacity_data(input_path, output_path):\n",
    "\n",
    "    # Step 1: Load Excel\n",
    "    df_raw = pd.read_excel(input_path)\n",
    "\n",
    "    # Step 2: Ensure numeric format and drop missing\n",
    "    df_raw[\"Year\"] = pd.to_numeric(df_raw[\"Year\"], errors='coerce')\n",
    "    df_raw[\"Solar_Capacity_MW\"] = pd.to_numeric(df_raw[\"Solar_Capacity_MW\"], errors='coerce')\n",
    "    df_raw.dropna(inplace=True)\n",
    "\n",
    "    # Step 3: Spread each year into 12 monthly values\n",
    "    monthly_data = []\n",
    "    for _, row in df_raw.iterrows():\n",
    "        year = int(row[\"Year\"])\n",
    "        value = row[\"Solar_Capacity_MW\"]\n",
    "        for month in range(1, 13):\n",
    "            monthly_data.append({\n",
    "                \"Date\": pd.Timestamp(year=year, month=month, day=1),\n",
    "                \"Solar_Capacity_MW\": value\n",
    "            })\n",
    "\n",
    "    # Step 4: Create and clean new DataFrame\n",
    "    df_monthly = pd.DataFrame(monthly_data)\n",
    "    df_monthly.sort_values(\"Date\", inplace=True)\n",
    "    df_monthly.reset_index(drop=True, inplace=True)\n",
    "\n",
    "    # Step 5: Save to processed CSV\n",
    "    os.makedirs(os.path.dirname(output_path), exist_ok=True)\n",
    "    df_monthly.to_csv(output_path, index=False)\n",
    "    print(f\"✅ Monthly solar capacity data saved to: {output_path}\")\n",
    "\n",
    "    return df_monthly\n"
   ]
  },
  {
   "cell_type": "markdown",
   "id": "2c780faf",
   "metadata": {},
   "source": [
    "Execute the cleaning when script is run"
   ]
  },
  {
   "cell_type": "code",
   "execution_count": 4,
   "id": "2180a2fb",
   "metadata": {},
   "outputs": [
    {
     "name": "stdout",
     "output_type": "stream",
     "text": [
      "✅ Monthly solar capacity data saved to: ../data/processed/Cleaned_Solar_Capacity.csv\n"
     ]
    }
   ],
   "source": [
    "if __name__ == \"__main__\":\n",
    "    input_file = \"../data/raw/Solar_Capacity_Ireland_2008_2023.xlsx\"\n",
    "    output_file = \"../data/processed/Cleaned_Solar_Capacity.csv\"\n",
    "    clean_solar_capacity_data(input_file, output_file)"
   ]
  },
  {
   "cell_type": "code",
   "execution_count": null,
   "id": "86ff59ce",
   "metadata": {},
   "outputs": [],
   "source": []
  }
 ],
 "metadata": {
  "kernelspec": {
   "display_name": "base",
   "language": "python",
   "name": "python3"
  },
  "language_info": {
   "codemirror_mode": {
    "name": "ipython",
    "version": 3
   },
   "file_extension": ".py",
   "mimetype": "text/x-python",
   "name": "python",
   "nbconvert_exporter": "python",
   "pygments_lexer": "ipython3",
   "version": "3.12.4"
  }
 },
 "nbformat": 4,
 "nbformat_minor": 5
}
